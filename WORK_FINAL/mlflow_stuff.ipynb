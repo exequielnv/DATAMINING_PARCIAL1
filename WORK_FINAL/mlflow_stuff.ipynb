{
 "cells": [
  {
   "cell_type": "code",
   "execution_count": 1,
   "metadata": {},
   "outputs": [],
   "source": [
    "import pylab\n",
    "import mlflow\n",
    "\n",
    "from sklearn.metrics import mean_squared_error, mean_absolute_error\n",
    "from sklearn import datasets\n",
    "from sklearn.model_selection import train_test_split\n",
    "from sklearn.preprocessing import StandardScaler,MinMaxScaler\n",
    "\n",
    "import pandas as pd\n",
    "import matplotlib.pyplot as plt\n",
    "from sklearn.preprocessing import StandardScaler, MinMaxScaler\n",
    "import numpy as np\n",
    "from sklearn.feature_selection import SelectKBest, f_regression\n",
    "import statsmodels.api as sm\n",
    "import seaborn as sns\n",
    "from sklearn.model_selection import train_test_split\n",
    "from sklearn.metrics import mean_squared_error\n",
    "from sklearn.linear_model import LinearRegression,Ridge,Lasso\n",
    "from sklearn.model_selection import KFold, cross_val_score, GridSearchCV\n",
    "import math"
   ]
  },
  {
   "cell_type": "markdown",
   "metadata": {},
   "source": [
    "Create Experiment"
   ]
  },
  {
   "cell_type": "code",
   "execution_count": 61,
   "metadata": {},
   "outputs": [],
   "source": [
    "experiment_name = 'best_subset_selection_1'\n",
    "\n",
    "dict_values = {\n",
    "    'mse':0,\n",
    "    'r2_adj':0,\n",
    "    'rmse':0\n",
    "}\n",
    "\n",
    "\n",
    "def load_create_experiment():\n",
    "    if mlflow.get_experiment_by_name(experiment_name):\n",
    "        return mlflow.get_experiment_by_name(experiment_name)\n",
    "    return mlflow.create_experiment(experiment_name)\n",
    "    \n",
    "current_experiment = load_create_experiment()"
   ]
  },
  {
   "cell_type": "markdown",
   "metadata": {},
   "source": [
    "Filtering Data"
   ]
  },
  {
   "cell_type": "code",
   "execution_count": 63,
   "metadata": {},
   "outputs": [
    {
     "name": "stderr",
     "output_type": "stream",
     "text": [
      "c:\\ProgramData\\Anaconda3\\envs\\datamining\\lib\\site-packages\\sklearn\\utils\\deprecation.py:87: FutureWarning: Function load_boston is deprecated; `load_boston` is deprecated in 1.0 and will be removed in 1.2.\n",
      "\n",
      "    The Boston housing prices dataset has an ethical problem. You can refer to\n",
      "    the documentation of this function for further details.\n",
      "\n",
      "    The scikit-learn maintainers therefore strongly discourage the use of this\n",
      "    dataset unless the purpose of the code is to study and educate about\n",
      "    ethical issues in data science and machine learning.\n",
      "\n",
      "    In this special case, you can fetch the dataset from the original\n",
      "    source::\n",
      "\n",
      "        import pandas as pd\n",
      "        import numpy as np\n",
      "\n",
      "        data_url = \"http://lib.stat.cmu.edu/datasets/boston\"\n",
      "        raw_df = pd.read_csv(data_url, sep=\"\\s+\", skiprows=22, header=None)\n",
      "        data = np.hstack([raw_df.values[::2, :], raw_df.values[1::2, :2]])\n",
      "        target = raw_df.values[1::2, 2]\n",
      "\n",
      "    Alternative datasets include the California housing dataset (i.e.\n",
      "    :func:`~sklearn.datasets.fetch_california_housing`) and the Ames housing\n",
      "    dataset. You can load the datasets as follows::\n",
      "\n",
      "        from sklearn.datasets import fetch_california_housing\n",
      "        housing = fetch_california_housing()\n",
      "\n",
      "    for the California housing dataset and::\n",
      "\n",
      "        from sklearn.datasets import fetch_openml\n",
      "        housing = fetch_openml(name=\"house_prices\", as_frame=True)\n",
      "\n",
      "    for the Ames housing dataset.\n",
      "  warnings.warn(msg, category=FutureWarning)\n"
     ]
    },
    {
     "ename": "Exception",
     "evalue": "Run with UUID 0955d52f61144b13aeb6a27fd34208e7 is already active. To start a new run, first end the current run with mlflow.end_run(). To start a nested run, call start_run with nested=True",
     "output_type": "error",
     "traceback": [
      "\u001b[1;31m---------------------------------------------------------------------------\u001b[0m",
      "\u001b[1;31mException\u001b[0m                                 Traceback (most recent call last)",
      "\u001b[1;32mc:\\Users\\Administrador\\Desktop\\DataMining\\mlflow_stuff.ipynb Celda 5\u001b[0m in \u001b[0;36m<cell line: 17>\u001b[1;34m()\u001b[0m\n\u001b[0;32m     <a href='vscode-notebook-cell:/c%3A/Users/Administrador/Desktop/DataMining/mlflow_stuff.ipynb#W1sZmlsZQ%3D%3D?line=14'>15</a>\u001b[0m df_experiment \u001b[39m=\u001b[39m df_experiment[df_experiment[\u001b[39m'\u001b[39m\u001b[39mprice\u001b[39m\u001b[39m'\u001b[39m] \u001b[39m<\u001b[39m\u001b[39m=\u001b[39m \u001b[39m35\u001b[39m]\n\u001b[0;32m     <a href='vscode-notebook-cell:/c%3A/Users/Administrador/Desktop/DataMining/mlflow_stuff.ipynb#W1sZmlsZQ%3D%3D?line=15'>16</a>\u001b[0m df_experiment\u001b[39m.\u001b[39mshape\n\u001b[1;32m---> <a href='vscode-notebook-cell:/c%3A/Users/Administrador/Desktop/DataMining/mlflow_stuff.ipynb#W1sZmlsZQ%3D%3D?line=16'>17</a>\u001b[0m mlflow\u001b[39m.\u001b[39;49mstart_run()\n",
      "File \u001b[1;32mc:\\ProgramData\\Anaconda3\\envs\\datamining\\lib\\site-packages\\mlflow\\tracking\\fluent.py:272\u001b[0m, in \u001b[0;36mstart_run\u001b[1;34m(run_id, experiment_id, run_name, nested, tags, description)\u001b[0m\n\u001b[0;32m    270\u001b[0m experiment_id \u001b[39m=\u001b[39m \u001b[39mstr\u001b[39m(experiment_id) \u001b[39mif\u001b[39;00m \u001b[39misinstance\u001b[39m(experiment_id, \u001b[39mint\u001b[39m) \u001b[39melse\u001b[39;00m experiment_id\n\u001b[0;32m    271\u001b[0m \u001b[39mif\u001b[39;00m \u001b[39mlen\u001b[39m(_active_run_stack) \u001b[39m>\u001b[39m \u001b[39m0\u001b[39m \u001b[39mand\u001b[39;00m \u001b[39mnot\u001b[39;00m nested:\n\u001b[1;32m--> 272\u001b[0m     \u001b[39mraise\u001b[39;00m \u001b[39mException\u001b[39;00m(\n\u001b[0;32m    273\u001b[0m         (\n\u001b[0;32m    274\u001b[0m             \u001b[39m\"\u001b[39m\u001b[39mRun with UUID \u001b[39m\u001b[39m{}\u001b[39;00m\u001b[39m is already active. To start a new run, first end the \u001b[39m\u001b[39m\"\u001b[39m\n\u001b[0;32m    275\u001b[0m             \u001b[39m+\u001b[39m \u001b[39m\"\u001b[39m\u001b[39mcurrent run with mlflow.end_run(). To start a nested \u001b[39m\u001b[39m\"\u001b[39m\n\u001b[0;32m    276\u001b[0m             \u001b[39m+\u001b[39m \u001b[39m\"\u001b[39m\u001b[39mrun, call start_run with nested=True\u001b[39m\u001b[39m\"\u001b[39m\n\u001b[0;32m    277\u001b[0m         )\u001b[39m.\u001b[39mformat(_active_run_stack[\u001b[39m0\u001b[39m]\u001b[39m.\u001b[39minfo\u001b[39m.\u001b[39mrun_id)\n\u001b[0;32m    278\u001b[0m     )\n\u001b[0;32m    279\u001b[0m client \u001b[39m=\u001b[39m MlflowClient()\n\u001b[0;32m    280\u001b[0m \u001b[39mif\u001b[39;00m run_id:\n",
      "\u001b[1;31mException\u001b[0m: Run with UUID 0955d52f61144b13aeb6a27fd34208e7 is already active. To start a new run, first end the current run with mlflow.end_run(). To start a nested run, call start_run with nested=True"
     ]
    }
   ],
   "source": [
    "#Start run \n",
    "\n",
    "columns_to_drop = ['NOX','AGE','PTRATIO']\n",
    "\n",
    "df_boston = datasets.load_boston()\n",
    "\n",
    "mlflow.log_param('drop_columns',columns_to_drop)\n",
    "\n",
    "y = pd.DataFrame(df_boston.target, columns=['price'])\n",
    "x = pd.DataFrame(df_boston.data, columns=df_boston.feature_names)\n",
    "x = x.drop(columns=columns_to_drop)\n",
    "\n",
    "\n",
    "df_experiment = pd.concat((y,x),axis=1)\n",
    "df_experiment = df_experiment[df_experiment['price'] <= 35]\n",
    "df_experiment.shape\n",
    "mlflow.start_run()\n",
    "\n",
    "\n"
   ]
  },
  {
   "cell_type": "markdown",
   "metadata": {},
   "source": [
    "Stadarize Data"
   ]
  },
  {
   "cell_type": "code",
   "execution_count": 64,
   "metadata": {},
   "outputs": [
    {
     "name": "stdout",
     "output_type": "stream",
     "text": [
      "Index(['price', 'CRIM', 'ZN', 'INDUS', 'CHAS', 'RM', 'DIS', 'RAD', 'TAX', 'B',\n",
      "       'LSTAT'],\n",
      "      dtype='object')\n"
     ]
    }
   ],
   "source": [
    "#Normalizacion de datos\n",
    "y_filtered = pd.DataFrame(df_experiment['price'],columns=['price'])\n",
    "print(df_experiment.columns)\n",
    "x_filtered = pd.DataFrame(df_experiment.drop(columns='price'))\n",
    "\n",
    "\n",
    "scaler = StandardScaler()\n",
    "x_scale = scaler.fit_transform(x_filtered)\n"
   ]
  },
  {
   "cell_type": "markdown",
   "metadata": {},
   "source": [
    "Train and Summary"
   ]
  },
  {
   "cell_type": "code",
   "execution_count": 65,
   "metadata": {},
   "outputs": [],
   "source": [
    "x_train, x_test, y_train, y_test = train_test_split(x_scale, y_filtered, test_size=0.3, random_state=42)\n",
    "ml = sm.OLS(y_train, sm.add_constant( x_train))\n",
    "ml_results = ml.fit()"
   ]
  },
  {
   "cell_type": "code",
   "execution_count": 66,
   "metadata": {},
   "outputs": [
    {
     "name": "stdout",
     "output_type": "stream",
     "text": [
      "                            OLS Regression Results                            \n",
      "==============================================================================\n",
      "Dep. Variable:                  price   R-squared:                       0.716\n",
      "Model:                            OLS   Adj. R-squared:                  0.707\n",
      "Method:                 Least Squares   F-statistic:                     78.03\n",
      "Date:                Mon, 03 Oct 2022   Prob (F-statistic):           1.95e-78\n",
      "Time:                        17:56:14   Log-Likelihood:                -845.62\n",
      "No. Observations:                 320   AIC:                             1713.\n",
      "Df Residuals:                     309   BIC:                             1755.\n",
      "Df Model:                          10                                         \n",
      "Covariance Type:            nonrobust                                         \n",
      "==============================================================================\n",
      "                 coef    std err          t      P>|t|      [0.025      0.975]\n",
      "------------------------------------------------------------------------------\n",
      "const         20.4422      0.194    105.339      0.000      20.060      20.824\n",
      "x1            -1.0807      0.234     -4.627      0.000      -1.540      -0.621\n",
      "x2             1.1742      0.280      4.201      0.000       0.624       1.724\n",
      "x3            -0.7324      0.359     -2.038      0.042      -1.440      -0.025\n",
      "x4             0.2687      0.189      1.425      0.155      -0.102       0.640\n",
      "x5             1.0689      0.248      4.305      0.000       0.580       1.557\n",
      "x6            -1.3534      0.332     -4.072      0.000      -2.007      -0.699\n",
      "x7             1.2290      0.511      2.406      0.017       0.224       2.234\n",
      "x8            -2.1802      0.557     -3.914      0.000      -3.276      -1.084\n",
      "x9             0.4499      0.221      2.039      0.042       0.016       0.884\n",
      "x10           -2.6361      0.323     -8.168      0.000      -3.271      -2.001\n",
      "==============================================================================\n",
      "Omnibus:                       23.434   Durbin-Watson:                   2.026\n",
      "Prob(Omnibus):                  0.000   Jarque-Bera (JB):               31.087\n",
      "Skew:                           0.551   Prob(JB):                     1.78e-07\n",
      "Kurtosis:                       4.057   Cond. No.                         8.48\n",
      "==============================================================================\n",
      "\n",
      "Notes:\n",
      "[1] Standard Errors assume that the covariance matrix of the errors is correctly specified.\n"
     ]
    }
   ],
   "source": [
    "print(ml_results.summary())"
   ]
  },
  {
   "cell_type": "code",
   "execution_count": 67,
   "metadata": {},
   "outputs": [],
   "source": [
    "# Valores Ajustados\n",
    "fitted_values = ml_results.fittedvalues\n",
    "\n",
    "# Valores residuales\n",
    "residuals = ml_results.resid\n",
    "\n",
    "#residuales estandarizados\n",
    "lm_resid_stand = ml_results.get_influence().resid_studentized_internal\n",
    "\n",
    "#raiz de los residuales normalizados absolutos\n",
    "lm_resid_norm_abs_sqrt = np.sqrt(np.abs(lm_resid_stand))\n",
    "\n",
    "#residuales absolutos\n",
    "lm_resid_abs = np.abs(residuals)"
   ]
  },
  {
   "cell_type": "code",
   "execution_count": 68,
   "metadata": {},
   "outputs": [
    {
     "data": {
      "image/png": "[encoded data removed]",
      "text/plain": [
       "<Figure size 432x288 with 1 Axes>"
      ]
     },
     "metadata": {
      "needs_background": "light"
     },
     "output_type": "display_data"
    }
   ],
   "source": [
    "# Residuales\n",
    "plt.hist(ml_results.resid)\n",
    "plt.show()"
   ]
  },
  {
   "cell_type": "code",
   "execution_count": 69,
   "metadata": {},
   "outputs": [],
   "source": [
    "y_pred = ml_results.predict(sm.add_constant(x_test))"
   ]
  },
  {
   "cell_type": "code",
   "execution_count": 70,
   "metadata": {},
   "outputs": [
    {
     "name": "stdout",
     "output_type": "stream",
     "text": [
      "Mean squared error: 8.90\n"
     ]
    }
   ],
   "source": [
    "mse = mean_squared_error(y_test,y_pred)\n",
    "print(\"Mean squared error: %.2f\" % mean_squared_error(y_test,y_pred))"
   ]
  },
  {
   "cell_type": "markdown",
   "metadata": {},
   "source": [
    "Save Results"
   ]
  },
  {
   "cell_type": "code",
   "execution_count": null,
   "metadata": {},
   "outputs": [],
   "source": [
    "from math import sqrt\n",
    "\n",
    "dict_values = {\n",
    "    'mse': mse,\n",
    "    'r2_adj': ml_results.rsquared_adj,\n",
    "    'rmse':sqrt(mse),\n",
    "    'PriceValueTruncDown' : outlierValuePriceDown,\n",
    "    'PriceValueTruncUp': outlierValuePriceUp\n",
    "}\n",
    "\n",
    "mlflow.set_tag('Normalization Type', normalizationType)\n",
    "mlflow.set_tag('Summary',summary)\n",
    "\n",
    "\n",
    "mlflow.log_metrics(dict_values)\n",
    "\n",
    "### tipo de algoritmo\n",
    "### modelo\n",
    "### graficos\n",
    "### databriks"
   ]
  },
  {
   "cell_type": "markdown",
   "metadata": {},
   "source": [
    "End Run"
   ]
  },
  {
   "cell_type": "code",
   "execution_count": null,
   "metadata": {},
   "outputs": [],
   "source": [
    "mlflow.end_run()"
   ]
  }
 ],
 "metadata": {
  "kernelspec": {
   "display_name": "Python 3.10.4 ('datamining')",
   "language": "python",
   "name": "python3"
  },
  "language_info": {
   "codemirror_mode": {
    "name": "ipython",
    "version": 3
   },
   "file_extension": ".py",
   "mimetype": "text/x-python",
   "name": "python",
   "nbconvert_exporter": "python",
   "pygments_lexer": "ipython3",
   "version": "3.10.4"
  },
  "orig_nbformat": 4,
  "vscode": {
   "interpreter": {
    "hash": "dd2c738cbc489a7192be84f527e2f9954c1c57bb6ac440df68d1356060f24e3c"
   }
  }
 },
 "nbformat": 4,
 "nbformat_minor": 2
}
