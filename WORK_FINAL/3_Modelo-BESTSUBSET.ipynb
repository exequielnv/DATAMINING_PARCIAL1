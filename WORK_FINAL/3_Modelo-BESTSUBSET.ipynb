{
 "cells": [
  {
   "cell_type": "markdown",
   "metadata": {},
   "source": [
    "PRIMER PARCIAL"
   ]
  },
  {
   "cell_type": "code",
   "execution_count": 41,
   "metadata": {},
   "outputs": [],
   "source": [
    "import pandas as pd\n",
    "import matplotlib.pyplot as plt\n",
    "from sklearn.preprocessing import StandardScaler, MinMaxScaler\n",
    "import numpy as np\n",
    "from sklearn.feature_selection import SelectKBest, f_regression\n",
    "import statsmodels.api as sm\n",
    "import seaborn as sns\n",
    "from sklearn.model_selection import train_test_split\n",
    "from sklearn.metrics import mean_squared_error\n",
    "from sklearn.linear_model import LinearRegression,Ridge,Lasso\n",
    "from sklearn.model_selection import KFold, cross_val_score, GridSearchCV\n",
    "import math\n",
    "import mlflow"
   ]
  },
  {
   "cell_type": "code",
   "execution_count": 42,
   "metadata": {},
   "outputs": [],
   "source": [
    "csvToyota= pd.read_csv(\"ToyotaCorolla_modificado.csv\")\n"
   ]
  },
  {
   "cell_type": "markdown",
   "metadata": {},
   "source": [
    "TRATAMIENTO DE LA VARIABLE DUMMY"
   ]
  },
  {
   "cell_type": "code",
   "execution_count": 43,
   "metadata": {},
   "outputs": [],
   "source": [
    "dummies=pd.get_dummies(csvToyota[\"Fuel_Type\"])\n",
    "csvToyota=csvToyota.drop(columns=[\"Fuel_Type\"])\n",
    "\n",
    "csvToyota[dummies.columns]=dummies\n"
   ]
  },
  {
   "cell_type": "code",
   "execution_count": 44,
   "metadata": {},
   "outputs": [
    {
     "data": {
      "text/html": [
       "<div>\n",
       "<style scoped>\n",
       "    .dataframe tbody tr th:only-of-type {\n",
       "        vertical-align: middle;\n",
       "    }\n",
       "\n",
       "    .dataframe tbody tr th {\n",
       "        vertical-align: top;\n",
       "    }\n",
       "\n",
       "    .dataframe thead th {\n",
       "        text-align: right;\n",
       "    }\n",
       "</style>\n",
       "<table border=\"1\" class=\"dataframe\">\n",
       "  <thead>\n",
       "    <tr style=\"text-align: right;\">\n",
       "      <th></th>\n",
       "      <th>count</th>\n",
       "      <th>mean</th>\n",
       "      <th>std</th>\n",
       "      <th>min</th>\n",
       "      <th>25%</th>\n",
       "      <th>50%</th>\n",
       "      <th>75%</th>\n",
       "      <th>max</th>\n",
       "    </tr>\n",
       "  </thead>\n",
       "  <tbody>\n",
       "    <tr>\n",
       "      <th>Price</th>\n",
       "      <td>1436.0</td>\n",
       "      <td>10730.824513</td>\n",
       "      <td>3626.964585</td>\n",
       "      <td>4350.0</td>\n",
       "      <td>8450.0</td>\n",
       "      <td>9900.0</td>\n",
       "      <td>11950.00</td>\n",
       "      <td>32500.0</td>\n",
       "    </tr>\n",
       "    <tr>\n",
       "      <th>Mfg_Year</th>\n",
       "      <td>1436.0</td>\n",
       "      <td>1999.625348</td>\n",
       "      <td>1.540722</td>\n",
       "      <td>1998.0</td>\n",
       "      <td>1998.0</td>\n",
       "      <td>1999.0</td>\n",
       "      <td>2001.00</td>\n",
       "      <td>2004.0</td>\n",
       "    </tr>\n",
       "    <tr>\n",
       "      <th>KM</th>\n",
       "      <td>1436.0</td>\n",
       "      <td>68533.259749</td>\n",
       "      <td>37506.448872</td>\n",
       "      <td>1.0</td>\n",
       "      <td>43000.0</td>\n",
       "      <td>63389.5</td>\n",
       "      <td>87020.75</td>\n",
       "      <td>243000.0</td>\n",
       "    </tr>\n",
       "    <tr>\n",
       "      <th>HP</th>\n",
       "      <td>1436.0</td>\n",
       "      <td>101.502089</td>\n",
       "      <td>14.981080</td>\n",
       "      <td>69.0</td>\n",
       "      <td>90.0</td>\n",
       "      <td>110.0</td>\n",
       "      <td>110.00</td>\n",
       "      <td>192.0</td>\n",
       "    </tr>\n",
       "    <tr>\n",
       "      <th>Met_Color</th>\n",
       "      <td>1436.0</td>\n",
       "      <td>0.674791</td>\n",
       "      <td>0.468616</td>\n",
       "      <td>0.0</td>\n",
       "      <td>0.0</td>\n",
       "      <td>1.0</td>\n",
       "      <td>1.00</td>\n",
       "      <td>1.0</td>\n",
       "    </tr>\n",
       "    <tr>\n",
       "      <th>cc</th>\n",
       "      <td>1436.0</td>\n",
       "      <td>1576.855850</td>\n",
       "      <td>424.386770</td>\n",
       "      <td>1300.0</td>\n",
       "      <td>1400.0</td>\n",
       "      <td>1600.0</td>\n",
       "      <td>1600.00</td>\n",
       "      <td>16000.0</td>\n",
       "    </tr>\n",
       "    <tr>\n",
       "      <th>Doors</th>\n",
       "      <td>1436.0</td>\n",
       "      <td>4.033426</td>\n",
       "      <td>0.952677</td>\n",
       "      <td>2.0</td>\n",
       "      <td>3.0</td>\n",
       "      <td>4.0</td>\n",
       "      <td>5.00</td>\n",
       "      <td>5.0</td>\n",
       "    </tr>\n",
       "    <tr>\n",
       "      <th>Quarterly_Tax</th>\n",
       "      <td>1436.0</td>\n",
       "      <td>87.122563</td>\n",
       "      <td>41.128611</td>\n",
       "      <td>19.0</td>\n",
       "      <td>69.0</td>\n",
       "      <td>85.0</td>\n",
       "      <td>85.00</td>\n",
       "      <td>283.0</td>\n",
       "    </tr>\n",
       "    <tr>\n",
       "      <th>Mfr_Guarantee</th>\n",
       "      <td>1436.0</td>\n",
       "      <td>0.409471</td>\n",
       "      <td>0.491907</td>\n",
       "      <td>0.0</td>\n",
       "      <td>0.0</td>\n",
       "      <td>0.0</td>\n",
       "      <td>1.00</td>\n",
       "      <td>1.0</td>\n",
       "    </tr>\n",
       "    <tr>\n",
       "      <th>Guarantee_Period</th>\n",
       "      <td>1436.0</td>\n",
       "      <td>3.815460</td>\n",
       "      <td>3.011025</td>\n",
       "      <td>3.0</td>\n",
       "      <td>3.0</td>\n",
       "      <td>3.0</td>\n",
       "      <td>3.00</td>\n",
       "      <td>36.0</td>\n",
       "    </tr>\n",
       "    <tr>\n",
       "      <th>ABS</th>\n",
       "      <td>1436.0</td>\n",
       "      <td>0.813370</td>\n",
       "      <td>0.389750</td>\n",
       "      <td>0.0</td>\n",
       "      <td>1.0</td>\n",
       "      <td>1.0</td>\n",
       "      <td>1.00</td>\n",
       "      <td>1.0</td>\n",
       "    </tr>\n",
       "    <tr>\n",
       "      <th>Airbag_1</th>\n",
       "      <td>1436.0</td>\n",
       "      <td>0.970752</td>\n",
       "      <td>0.168559</td>\n",
       "      <td>0.0</td>\n",
       "      <td>1.0</td>\n",
       "      <td>1.0</td>\n",
       "      <td>1.00</td>\n",
       "      <td>1.0</td>\n",
       "    </tr>\n",
       "    <tr>\n",
       "      <th>Airbag_2</th>\n",
       "      <td>1436.0</td>\n",
       "      <td>0.722841</td>\n",
       "      <td>0.447751</td>\n",
       "      <td>0.0</td>\n",
       "      <td>0.0</td>\n",
       "      <td>1.0</td>\n",
       "      <td>1.00</td>\n",
       "      <td>1.0</td>\n",
       "    </tr>\n",
       "    <tr>\n",
       "      <th>Airco</th>\n",
       "      <td>1436.0</td>\n",
       "      <td>0.508357</td>\n",
       "      <td>0.500104</td>\n",
       "      <td>0.0</td>\n",
       "      <td>0.0</td>\n",
       "      <td>1.0</td>\n",
       "      <td>1.00</td>\n",
       "      <td>1.0</td>\n",
       "    </tr>\n",
       "    <tr>\n",
       "      <th>Automatic_airco</th>\n",
       "      <td>1436.0</td>\n",
       "      <td>0.056407</td>\n",
       "      <td>0.230786</td>\n",
       "      <td>0.0</td>\n",
       "      <td>0.0</td>\n",
       "      <td>0.0</td>\n",
       "      <td>0.00</td>\n",
       "      <td>1.0</td>\n",
       "    </tr>\n",
       "    <tr>\n",
       "      <th>Boardcomputer</th>\n",
       "      <td>1436.0</td>\n",
       "      <td>0.294568</td>\n",
       "      <td>0.456007</td>\n",
       "      <td>0.0</td>\n",
       "      <td>0.0</td>\n",
       "      <td>0.0</td>\n",
       "      <td>1.00</td>\n",
       "      <td>1.0</td>\n",
       "    </tr>\n",
       "    <tr>\n",
       "      <th>CD_Player</th>\n",
       "      <td>1436.0</td>\n",
       "      <td>0.218663</td>\n",
       "      <td>0.413483</td>\n",
       "      <td>0.0</td>\n",
       "      <td>0.0</td>\n",
       "      <td>0.0</td>\n",
       "      <td>0.00</td>\n",
       "      <td>1.0</td>\n",
       "    </tr>\n",
       "    <tr>\n",
       "      <th>Central_Lock</th>\n",
       "      <td>1436.0</td>\n",
       "      <td>0.580084</td>\n",
       "      <td>0.493717</td>\n",
       "      <td>0.0</td>\n",
       "      <td>0.0</td>\n",
       "      <td>1.0</td>\n",
       "      <td>1.00</td>\n",
       "      <td>1.0</td>\n",
       "    </tr>\n",
       "    <tr>\n",
       "      <th>Powered_Windows</th>\n",
       "      <td>1436.0</td>\n",
       "      <td>0.561978</td>\n",
       "      <td>0.496317</td>\n",
       "      <td>0.0</td>\n",
       "      <td>0.0</td>\n",
       "      <td>1.0</td>\n",
       "      <td>1.00</td>\n",
       "      <td>1.0</td>\n",
       "    </tr>\n",
       "    <tr>\n",
       "      <th>Mistlamps</th>\n",
       "      <td>1436.0</td>\n",
       "      <td>0.256964</td>\n",
       "      <td>0.437111</td>\n",
       "      <td>0.0</td>\n",
       "      <td>0.0</td>\n",
       "      <td>0.0</td>\n",
       "      <td>1.00</td>\n",
       "      <td>1.0</td>\n",
       "    </tr>\n",
       "    <tr>\n",
       "      <th>Sport_Model</th>\n",
       "      <td>1436.0</td>\n",
       "      <td>0.300139</td>\n",
       "      <td>0.458478</td>\n",
       "      <td>0.0</td>\n",
       "      <td>0.0</td>\n",
       "      <td>0.0</td>\n",
       "      <td>1.00</td>\n",
       "      <td>1.0</td>\n",
       "    </tr>\n",
       "    <tr>\n",
       "      <th>Backseat_Divider</th>\n",
       "      <td>1436.0</td>\n",
       "      <td>0.770195</td>\n",
       "      <td>0.420854</td>\n",
       "      <td>0.0</td>\n",
       "      <td>1.0</td>\n",
       "      <td>1.0</td>\n",
       "      <td>1.00</td>\n",
       "      <td>1.0</td>\n",
       "    </tr>\n",
       "    <tr>\n",
       "      <th>Metallic_Rim</th>\n",
       "      <td>1436.0</td>\n",
       "      <td>0.204735</td>\n",
       "      <td>0.403649</td>\n",
       "      <td>0.0</td>\n",
       "      <td>0.0</td>\n",
       "      <td>0.0</td>\n",
       "      <td>0.00</td>\n",
       "      <td>1.0</td>\n",
       "    </tr>\n",
       "    <tr>\n",
       "      <th>Tow_Bar</th>\n",
       "      <td>1436.0</td>\n",
       "      <td>0.277855</td>\n",
       "      <td>0.448098</td>\n",
       "      <td>0.0</td>\n",
       "      <td>0.0</td>\n",
       "      <td>0.0</td>\n",
       "      <td>1.00</td>\n",
       "      <td>1.0</td>\n",
       "    </tr>\n",
       "    <tr>\n",
       "      <th>CNG</th>\n",
       "      <td>1436.0</td>\n",
       "      <td>0.011838</td>\n",
       "      <td>0.108196</td>\n",
       "      <td>0.0</td>\n",
       "      <td>0.0</td>\n",
       "      <td>0.0</td>\n",
       "      <td>0.00</td>\n",
       "      <td>1.0</td>\n",
       "    </tr>\n",
       "    <tr>\n",
       "      <th>Diesel</th>\n",
       "      <td>1436.0</td>\n",
       "      <td>0.107939</td>\n",
       "      <td>0.310411</td>\n",
       "      <td>0.0</td>\n",
       "      <td>0.0</td>\n",
       "      <td>0.0</td>\n",
       "      <td>0.00</td>\n",
       "      <td>1.0</td>\n",
       "    </tr>\n",
       "    <tr>\n",
       "      <th>Petrol</th>\n",
       "      <td>1436.0</td>\n",
       "      <td>0.880223</td>\n",
       "      <td>0.324814</td>\n",
       "      <td>0.0</td>\n",
       "      <td>1.0</td>\n",
       "      <td>1.0</td>\n",
       "      <td>1.00</td>\n",
       "      <td>1.0</td>\n",
       "    </tr>\n",
       "  </tbody>\n",
       "</table>\n",
       "</div>"
      ],
      "text/plain": [
       "                   count          mean           std     min      25%  \\\n",
       "Price             1436.0  10730.824513   3626.964585  4350.0   8450.0   \n",
       "Mfg_Year          1436.0   1999.625348      1.540722  1998.0   1998.0   \n",
       "KM                1436.0  68533.259749  37506.448872     1.0  43000.0   \n",
       "HP                1436.0    101.502089     14.981080    69.0     90.0   \n",
       "Met_Color         1436.0      0.674791      0.468616     0.0      0.0   \n",
       "cc                1436.0   1576.855850    424.386770  1300.0   1400.0   \n",
       "Doors             1436.0      4.033426      0.952677     2.0      3.0   \n",
       "Quarterly_Tax     1436.0     87.122563     41.128611    19.0     69.0   \n",
       "Mfr_Guarantee     1436.0      0.409471      0.491907     0.0      0.0   \n",
       "Guarantee_Period  1436.0      3.815460      3.011025     3.0      3.0   \n",
       "ABS               1436.0      0.813370      0.389750     0.0      1.0   \n",
       "Airbag_1          1436.0      0.970752      0.168559     0.0      1.0   \n",
       "Airbag_2          1436.0      0.722841      0.447751     0.0      0.0   \n",
       "Airco             1436.0      0.508357      0.500104     0.0      0.0   \n",
       "Automatic_airco   1436.0      0.056407      0.230786     0.0      0.0   \n",
       "Boardcomputer     1436.0      0.294568      0.456007     0.0      0.0   \n",
       "CD_Player         1436.0      0.218663      0.413483     0.0      0.0   \n",
       "Central_Lock      1436.0      0.580084      0.493717     0.0      0.0   \n",
       "Powered_Windows   1436.0      0.561978      0.496317     0.0      0.0   \n",
       "Mistlamps         1436.0      0.256964      0.437111     0.0      0.0   \n",
       "Sport_Model       1436.0      0.300139      0.458478     0.0      0.0   \n",
       "Backseat_Divider  1436.0      0.770195      0.420854     0.0      1.0   \n",
       "Metallic_Rim      1436.0      0.204735      0.403649     0.0      0.0   \n",
       "Tow_Bar           1436.0      0.277855      0.448098     0.0      0.0   \n",
       "CNG               1436.0      0.011838      0.108196     0.0      0.0   \n",
       "Diesel            1436.0      0.107939      0.310411     0.0      0.0   \n",
       "Petrol            1436.0      0.880223      0.324814     0.0      1.0   \n",
       "\n",
       "                      50%       75%       max  \n",
       "Price              9900.0  11950.00   32500.0  \n",
       "Mfg_Year           1999.0   2001.00    2004.0  \n",
       "KM                63389.5  87020.75  243000.0  \n",
       "HP                  110.0    110.00     192.0  \n",
       "Met_Color             1.0      1.00       1.0  \n",
       "cc                 1600.0   1600.00   16000.0  \n",
       "Doors                 4.0      5.00       5.0  \n",
       "Quarterly_Tax        85.0     85.00     283.0  \n",
       "Mfr_Guarantee         0.0      1.00       1.0  \n",
       "Guarantee_Period      3.0      3.00      36.0  \n",
       "ABS                   1.0      1.00       1.0  \n",
       "Airbag_1              1.0      1.00       1.0  \n",
       "Airbag_2              1.0      1.00       1.0  \n",
       "Airco                 1.0      1.00       1.0  \n",
       "Automatic_airco       0.0      0.00       1.0  \n",
       "Boardcomputer         0.0      1.00       1.0  \n",
       "CD_Player             0.0      0.00       1.0  \n",
       "Central_Lock          1.0      1.00       1.0  \n",
       "Powered_Windows       1.0      1.00       1.0  \n",
       "Mistlamps             0.0      1.00       1.0  \n",
       "Sport_Model           0.0      1.00       1.0  \n",
       "Backseat_Divider      1.0      1.00       1.0  \n",
       "Metallic_Rim          0.0      0.00       1.0  \n",
       "Tow_Bar               0.0      1.00       1.0  \n",
       "CNG                   0.0      0.00       1.0  \n",
       "Diesel                0.0      0.00       1.0  \n",
       "Petrol                1.0      1.00       1.0  "
      ]
     },
     "execution_count": 44,
     "metadata": {},
     "output_type": "execute_result"
    }
   ],
   "source": [
    "columns_to_delete=[\"Id\",\"Model\",\"Age_08_04\",\"Cylinders\",\"Weight\",\"Radio_cassette\",\"Power_Steering\",\"Gears\",\"Automatic\",\"Radio\",\n",
    "                   \"Power_Steering\",\"BOVAG_Guarantee\",\"Mfg_Month\"]\n",
    "\n",
    "df_test=csvToyota.drop(columns=columns_to_delete)\n",
    "df_test.describe(include=\"all\").T"
   ]
  },
  {
   "cell_type": "code",
   "execution_count": 45,
   "metadata": {},
   "outputs": [],
   "source": [
    "outlierValuePriceDown=5000\n",
    "outlierValuePriceUp=19000\n",
    "df_filtered=df_test[(df_test[\"Price\"]>outlierValuePriceDown)&(df_test[\"Price\"]<=outlierValuePriceUp)]"
   ]
  },
  {
   "cell_type": "markdown",
   "metadata": {},
   "source": [
    "<h1>CREAR EXPERIMENTO</h1>"
   ]
  },
  {
   "cell_type": "code",
   "execution_count": 46,
   "metadata": {},
   "outputs": [],
   "source": [
    "experiment_name = 'best_subset_selection_FINAL'\n",
    "\n",
    "dict_values = {\n",
    "    'mse':0,\n",
    "    'r2_adj':0,\n",
    "    'rmse':0\n",
    "}\n",
    "\n",
    "\n",
    "def load_create_experiment():\n",
    "    if mlflow.get_experiment_by_name(experiment_name):\n",
    "        return mlflow.get_experiment_by_name(experiment_name)\n",
    "    return mlflow.create_experiment(experiment_name)\n",
    "    \n",
    "current_experiment = load_create_experiment()"
   ]
  },
  {
   "cell_type": "code",
   "execution_count": 47,
   "metadata": {},
   "outputs": [
    {
     "data": {
      "text/plain": [
       "<ActiveRun: >"
      ]
     },
     "execution_count": 47,
     "metadata": {},
     "output_type": "execute_result"
    }
   ],
   "source": [
    "mlflow.start_run()"
   ]
  },
  {
   "cell_type": "markdown",
   "metadata": {},
   "source": [
    "<h1 style=\"color: cyan\">NORMALIZACION</h1>"
   ]
  },
  {
   "cell_type": "code",
   "execution_count": 48,
   "metadata": {},
   "outputs": [
    {
     "data": {
      "text/html": [
       "<div>\n",
       "<style scoped>\n",
       "    .dataframe tbody tr th:only-of-type {\n",
       "        vertical-align: middle;\n",
       "    }\n",
       "\n",
       "    .dataframe tbody tr th {\n",
       "        vertical-align: top;\n",
       "    }\n",
       "\n",
       "    .dataframe thead th {\n",
       "        text-align: right;\n",
       "    }\n",
       "</style>\n",
       "<table border=\"1\" class=\"dataframe\">\n",
       "  <thead>\n",
       "    <tr style=\"text-align: right;\">\n",
       "      <th></th>\n",
       "      <th>count</th>\n",
       "      <th>mean</th>\n",
       "      <th>std</th>\n",
       "      <th>min</th>\n",
       "      <th>25%</th>\n",
       "      <th>50%</th>\n",
       "      <th>75%</th>\n",
       "      <th>max</th>\n",
       "    </tr>\n",
       "  </thead>\n",
       "  <tbody>\n",
       "    <tr>\n",
       "      <th>Price</th>\n",
       "      <td>1372.0</td>\n",
       "      <td>0.369498</td>\n",
       "      <td>0.201772</td>\n",
       "      <td>0.0</td>\n",
       "      <td>0.223827</td>\n",
       "      <td>0.332130</td>\n",
       "      <td>0.458484</td>\n",
       "      <td>1.0</td>\n",
       "    </tr>\n",
       "    <tr>\n",
       "      <th>Mfg_Year</th>\n",
       "      <td>1372.0</td>\n",
       "      <td>0.245627</td>\n",
       "      <td>0.230753</td>\n",
       "      <td>0.0</td>\n",
       "      <td>0.000000</td>\n",
       "      <td>0.166667</td>\n",
       "      <td>0.333333</td>\n",
       "      <td>1.0</td>\n",
       "    </tr>\n",
       "    <tr>\n",
       "      <th>KM</th>\n",
       "      <td>1372.0</td>\n",
       "      <td>0.289578</td>\n",
       "      <td>0.150218</td>\n",
       "      <td>0.0</td>\n",
       "      <td>0.186151</td>\n",
       "      <td>0.267417</td>\n",
       "      <td>0.364133</td>\n",
       "      <td>1.0</td>\n",
       "    </tr>\n",
       "    <tr>\n",
       "      <th>HP</th>\n",
       "      <td>1372.0</td>\n",
       "      <td>0.673531</td>\n",
       "      <td>0.270824</td>\n",
       "      <td>0.0</td>\n",
       "      <td>0.361702</td>\n",
       "      <td>0.872340</td>\n",
       "      <td>0.872340</td>\n",
       "      <td>1.0</td>\n",
       "    </tr>\n",
       "    <tr>\n",
       "      <th>Met_Color</th>\n",
       "      <td>1372.0</td>\n",
       "      <td>0.671283</td>\n",
       "      <td>0.469918</td>\n",
       "      <td>0.0</td>\n",
       "      <td>0.000000</td>\n",
       "      <td>1.000000</td>\n",
       "      <td>1.000000</td>\n",
       "      <td>1.0</td>\n",
       "    </tr>\n",
       "    <tr>\n",
       "      <th>cc</th>\n",
       "      <td>1372.0</td>\n",
       "      <td>0.018285</td>\n",
       "      <td>0.029302</td>\n",
       "      <td>0.0</td>\n",
       "      <td>0.006803</td>\n",
       "      <td>0.020408</td>\n",
       "      <td>0.020408</td>\n",
       "      <td>1.0</td>\n",
       "    </tr>\n",
       "    <tr>\n",
       "      <th>Doors</th>\n",
       "      <td>1372.0</td>\n",
       "      <td>0.670554</td>\n",
       "      <td>0.317496</td>\n",
       "      <td>0.0</td>\n",
       "      <td>0.333333</td>\n",
       "      <td>0.666667</td>\n",
       "      <td>1.000000</td>\n",
       "      <td>1.0</td>\n",
       "    </tr>\n",
       "    <tr>\n",
       "      <th>Quarterly_Tax</th>\n",
       "      <td>1372.0</td>\n",
       "      <td>0.308597</td>\n",
       "      <td>0.178434</td>\n",
       "      <td>0.0</td>\n",
       "      <td>0.232558</td>\n",
       "      <td>0.306977</td>\n",
       "      <td>0.306977</td>\n",
       "      <td>1.0</td>\n",
       "    </tr>\n",
       "    <tr>\n",
       "      <th>Mfr_Guarantee</th>\n",
       "      <td>1372.0</td>\n",
       "      <td>0.405977</td>\n",
       "      <td>0.491259</td>\n",
       "      <td>0.0</td>\n",
       "      <td>0.000000</td>\n",
       "      <td>0.000000</td>\n",
       "      <td>1.000000</td>\n",
       "      <td>1.0</td>\n",
       "    </tr>\n",
       "    <tr>\n",
       "      <th>Guarantee_Period</th>\n",
       "      <td>1372.0</td>\n",
       "      <td>0.024030</td>\n",
       "      <td>0.088498</td>\n",
       "      <td>0.0</td>\n",
       "      <td>0.000000</td>\n",
       "      <td>0.000000</td>\n",
       "      <td>0.000000</td>\n",
       "      <td>1.0</td>\n",
       "    </tr>\n",
       "    <tr>\n",
       "      <th>ABS</th>\n",
       "      <td>1372.0</td>\n",
       "      <td>0.805394</td>\n",
       "      <td>0.396042</td>\n",
       "      <td>0.0</td>\n",
       "      <td>1.000000</td>\n",
       "      <td>1.000000</td>\n",
       "      <td>1.000000</td>\n",
       "      <td>1.0</td>\n",
       "    </tr>\n",
       "    <tr>\n",
       "      <th>Airbag_1</th>\n",
       "      <td>1372.0</td>\n",
       "      <td>0.970117</td>\n",
       "      <td>0.170328</td>\n",
       "      <td>0.0</td>\n",
       "      <td>1.000000</td>\n",
       "      <td>1.000000</td>\n",
       "      <td>1.000000</td>\n",
       "      <td>1.0</td>\n",
       "    </tr>\n",
       "    <tr>\n",
       "      <th>Airbag_2</th>\n",
       "      <td>1372.0</td>\n",
       "      <td>0.717930</td>\n",
       "      <td>0.450171</td>\n",
       "      <td>0.0</td>\n",
       "      <td>0.000000</td>\n",
       "      <td>1.000000</td>\n",
       "      <td>1.000000</td>\n",
       "      <td>1.0</td>\n",
       "    </tr>\n",
       "    <tr>\n",
       "      <th>Airco</th>\n",
       "      <td>1372.0</td>\n",
       "      <td>0.487609</td>\n",
       "      <td>0.500029</td>\n",
       "      <td>0.0</td>\n",
       "      <td>0.000000</td>\n",
       "      <td>0.000000</td>\n",
       "      <td>1.000000</td>\n",
       "      <td>1.0</td>\n",
       "    </tr>\n",
       "    <tr>\n",
       "      <th>Automatic_airco</th>\n",
       "      <td>1372.0</td>\n",
       "      <td>0.027697</td>\n",
       "      <td>0.164162</td>\n",
       "      <td>0.0</td>\n",
       "      <td>0.000000</td>\n",
       "      <td>0.000000</td>\n",
       "      <td>0.000000</td>\n",
       "      <td>1.0</td>\n",
       "    </tr>\n",
       "    <tr>\n",
       "      <th>Boardcomputer</th>\n",
       "      <td>1372.0</td>\n",
       "      <td>0.273324</td>\n",
       "      <td>0.445828</td>\n",
       "      <td>0.0</td>\n",
       "      <td>0.000000</td>\n",
       "      <td>0.000000</td>\n",
       "      <td>1.000000</td>\n",
       "      <td>1.0</td>\n",
       "    </tr>\n",
       "    <tr>\n",
       "      <th>CD_Player</th>\n",
       "      <td>1372.0</td>\n",
       "      <td>0.198980</td>\n",
       "      <td>0.399378</td>\n",
       "      <td>0.0</td>\n",
       "      <td>0.000000</td>\n",
       "      <td>0.000000</td>\n",
       "      <td>0.000000</td>\n",
       "      <td>1.0</td>\n",
       "    </tr>\n",
       "    <tr>\n",
       "      <th>Central_Lock</th>\n",
       "      <td>1372.0</td>\n",
       "      <td>0.560496</td>\n",
       "      <td>0.496508</td>\n",
       "      <td>0.0</td>\n",
       "      <td>0.000000</td>\n",
       "      <td>1.000000</td>\n",
       "      <td>1.000000</td>\n",
       "      <td>1.0</td>\n",
       "    </tr>\n",
       "    <tr>\n",
       "      <th>Powered_Windows</th>\n",
       "      <td>1372.0</td>\n",
       "      <td>0.543003</td>\n",
       "      <td>0.498329</td>\n",
       "      <td>0.0</td>\n",
       "      <td>0.000000</td>\n",
       "      <td>1.000000</td>\n",
       "      <td>1.000000</td>\n",
       "      <td>1.0</td>\n",
       "    </tr>\n",
       "    <tr>\n",
       "      <th>Mistlamps</th>\n",
       "      <td>1372.0</td>\n",
       "      <td>0.243440</td>\n",
       "      <td>0.429315</td>\n",
       "      <td>0.0</td>\n",
       "      <td>0.000000</td>\n",
       "      <td>0.000000</td>\n",
       "      <td>0.000000</td>\n",
       "      <td>1.0</td>\n",
       "    </tr>\n",
       "    <tr>\n",
       "      <th>Sport_Model</th>\n",
       "      <td>1372.0</td>\n",
       "      <td>0.284985</td>\n",
       "      <td>0.451572</td>\n",
       "      <td>0.0</td>\n",
       "      <td>0.000000</td>\n",
       "      <td>0.000000</td>\n",
       "      <td>1.000000</td>\n",
       "      <td>1.0</td>\n",
       "    </tr>\n",
       "    <tr>\n",
       "      <th>Backseat_Divider</th>\n",
       "      <td>1372.0</td>\n",
       "      <td>0.771866</td>\n",
       "      <td>0.419783</td>\n",
       "      <td>0.0</td>\n",
       "      <td>1.000000</td>\n",
       "      <td>1.000000</td>\n",
       "      <td>1.000000</td>\n",
       "      <td>1.0</td>\n",
       "    </tr>\n",
       "    <tr>\n",
       "      <th>Metallic_Rim</th>\n",
       "      <td>1372.0</td>\n",
       "      <td>0.189504</td>\n",
       "      <td>0.392052</td>\n",
       "      <td>0.0</td>\n",
       "      <td>0.000000</td>\n",
       "      <td>0.000000</td>\n",
       "      <td>0.000000</td>\n",
       "      <td>1.0</td>\n",
       "    </tr>\n",
       "    <tr>\n",
       "      <th>Tow_Bar</th>\n",
       "      <td>1372.0</td>\n",
       "      <td>0.289359</td>\n",
       "      <td>0.453630</td>\n",
       "      <td>0.0</td>\n",
       "      <td>0.000000</td>\n",
       "      <td>0.000000</td>\n",
       "      <td>1.000000</td>\n",
       "      <td>1.0</td>\n",
       "    </tr>\n",
       "    <tr>\n",
       "      <th>CNG</th>\n",
       "      <td>1372.0</td>\n",
       "      <td>0.012391</td>\n",
       "      <td>0.110662</td>\n",
       "      <td>0.0</td>\n",
       "      <td>0.000000</td>\n",
       "      <td>0.000000</td>\n",
       "      <td>0.000000</td>\n",
       "      <td>1.0</td>\n",
       "    </tr>\n",
       "    <tr>\n",
       "      <th>Diesel</th>\n",
       "      <td>1372.0</td>\n",
       "      <td>0.097668</td>\n",
       "      <td>0.296973</td>\n",
       "      <td>0.0</td>\n",
       "      <td>0.000000</td>\n",
       "      <td>0.000000</td>\n",
       "      <td>0.000000</td>\n",
       "      <td>1.0</td>\n",
       "    </tr>\n",
       "    <tr>\n",
       "      <th>Petrol</th>\n",
       "      <td>1372.0</td>\n",
       "      <td>0.889942</td>\n",
       "      <td>0.313077</td>\n",
       "      <td>0.0</td>\n",
       "      <td>1.000000</td>\n",
       "      <td>1.000000</td>\n",
       "      <td>1.000000</td>\n",
       "      <td>1.0</td>\n",
       "    </tr>\n",
       "  </tbody>\n",
       "</table>\n",
       "</div>"
      ],
      "text/plain": [
       "                   count      mean       std  min       25%       50%  \\\n",
       "Price             1372.0  0.369498  0.201772  0.0  0.223827  0.332130   \n",
       "Mfg_Year          1372.0  0.245627  0.230753  0.0  0.000000  0.166667   \n",
       "KM                1372.0  0.289578  0.150218  0.0  0.186151  0.267417   \n",
       "HP                1372.0  0.673531  0.270824  0.0  0.361702  0.872340   \n",
       "Met_Color         1372.0  0.671283  0.469918  0.0  0.000000  1.000000   \n",
       "cc                1372.0  0.018285  0.029302  0.0  0.006803  0.020408   \n",
       "Doors             1372.0  0.670554  0.317496  0.0  0.333333  0.666667   \n",
       "Quarterly_Tax     1372.0  0.308597  0.178434  0.0  0.232558  0.306977   \n",
       "Mfr_Guarantee     1372.0  0.405977  0.491259  0.0  0.000000  0.000000   \n",
       "Guarantee_Period  1372.0  0.024030  0.088498  0.0  0.000000  0.000000   \n",
       "ABS               1372.0  0.805394  0.396042  0.0  1.000000  1.000000   \n",
       "Airbag_1          1372.0  0.970117  0.170328  0.0  1.000000  1.000000   \n",
       "Airbag_2          1372.0  0.717930  0.450171  0.0  0.000000  1.000000   \n",
       "Airco             1372.0  0.487609  0.500029  0.0  0.000000  0.000000   \n",
       "Automatic_airco   1372.0  0.027697  0.164162  0.0  0.000000  0.000000   \n",
       "Boardcomputer     1372.0  0.273324  0.445828  0.0  0.000000  0.000000   \n",
       "CD_Player         1372.0  0.198980  0.399378  0.0  0.000000  0.000000   \n",
       "Central_Lock      1372.0  0.560496  0.496508  0.0  0.000000  1.000000   \n",
       "Powered_Windows   1372.0  0.543003  0.498329  0.0  0.000000  1.000000   \n",
       "Mistlamps         1372.0  0.243440  0.429315  0.0  0.000000  0.000000   \n",
       "Sport_Model       1372.0  0.284985  0.451572  0.0  0.000000  0.000000   \n",
       "Backseat_Divider  1372.0  0.771866  0.419783  0.0  1.000000  1.000000   \n",
       "Metallic_Rim      1372.0  0.189504  0.392052  0.0  0.000000  0.000000   \n",
       "Tow_Bar           1372.0  0.289359  0.453630  0.0  0.000000  0.000000   \n",
       "CNG               1372.0  0.012391  0.110662  0.0  0.000000  0.000000   \n",
       "Diesel            1372.0  0.097668  0.296973  0.0  0.000000  0.000000   \n",
       "Petrol            1372.0  0.889942  0.313077  0.0  1.000000  1.000000   \n",
       "\n",
       "                       75%  max  \n",
       "Price             0.458484  1.0  \n",
       "Mfg_Year          0.333333  1.0  \n",
       "KM                0.364133  1.0  \n",
       "HP                0.872340  1.0  \n",
       "Met_Color         1.000000  1.0  \n",
       "cc                0.020408  1.0  \n",
       "Doors             1.000000  1.0  \n",
       "Quarterly_Tax     0.306977  1.0  \n",
       "Mfr_Guarantee     1.000000  1.0  \n",
       "Guarantee_Period  0.000000  1.0  \n",
       "ABS               1.000000  1.0  \n",
       "Airbag_1          1.000000  1.0  \n",
       "Airbag_2          1.000000  1.0  \n",
       "Airco             1.000000  1.0  \n",
       "Automatic_airco   0.000000  1.0  \n",
       "Boardcomputer     1.000000  1.0  \n",
       "CD_Player         0.000000  1.0  \n",
       "Central_Lock      1.000000  1.0  \n",
       "Powered_Windows   1.000000  1.0  \n",
       "Mistlamps         0.000000  1.0  \n",
       "Sport_Model       1.000000  1.0  \n",
       "Backseat_Divider  1.000000  1.0  \n",
       "Metallic_Rim      0.000000  1.0  \n",
       "Tow_Bar           1.000000  1.0  \n",
       "CNG               0.000000  1.0  \n",
       "Diesel            0.000000  1.0  \n",
       "Petrol            1.000000  1.0  "
      ]
     },
     "execution_count": 48,
     "metadata": {},
     "output_type": "execute_result"
    }
   ],
   "source": [
    "scaler=MinMaxScaler()\n",
    "norm_data=scaler.fit_transform(df_filtered)\n",
    "dataset=pd.DataFrame(norm_data,columns=df_test.columns.values)\n",
    "dataset.describe(include=\"all\").T"
   ]
  },
  {
   "cell_type": "markdown",
   "metadata": {},
   "source": [
    "<h3 style=\"color: lightgreen\">MODELO: BEST SUBSET</h3>"
   ]
  },
  {
   "cell_type": "code",
   "execution_count": 49,
   "metadata": {},
   "outputs": [],
   "source": [
    "Y=df_filtered[[\"Price\"]]\n",
    "X=dataset[[\"Mfg_Year\",\"KM\",\"Airco\",\"Automatic_airco\",\"Boardcomputer\",\"CD_Player\",\"ABS\",\"Powered_Windows\"]]"
   ]
  },
  {
   "cell_type": "code",
   "execution_count": 50,
   "metadata": {},
   "outputs": [
    {
     "name": "stderr",
     "output_type": "stream",
     "text": [
      "C:\\Users\\USUARIO\\AppData\\Local\\Temp\\ipykernel_3304\\615492939.py:1: SettingWithCopyWarning: \n",
      "A value is trying to be set on a copy of a slice from a DataFrame.\n",
      "Try using .loc[row_indexer,col_indexer] = value instead\n",
      "\n",
      "See the caveats in the documentation: https://pandas.pydata.org/pandas-docs/stable/user_guide/indexing.html#returning-a-view-versus-a-copy\n",
      "  Y[\"Price\"]=np.log(Y[\"Price\"])\n"
     ]
    },
    {
     "data": {
      "text/plain": [
       "(array([ 10.,  38., 127., 226., 303., 298., 153.,  91.,  60.,  66.]),\n",
       " array([8.54675199, 8.67729622, 8.80784045, 8.93838467, 9.0689289 ,\n",
       "        9.19947313, 9.33001735, 9.46056158, 9.59110581, 9.72165003,\n",
       "        9.85219426]),\n",
       " <BarContainer object of 10 artists>)"
      ]
     },
     "execution_count": 50,
     "metadata": {},
     "output_type": "execute_result"
    },
    {
     "data": {
      "image/png": "[encoded data removed]",
      "text/plain": [
       "<Figure size 432x288 with 1 Axes>"
      ]
     },
     "metadata": {
      "needs_background": "light"
     },
     "output_type": "display_data"
    }
   ],
   "source": [
    "Y[\"Price\"]=np.log(Y[\"Price\"])\n",
    "plt.hist(Y[\"Price\"],bins=10)"
   ]
  },
  {
   "cell_type": "code",
   "execution_count": 51,
   "metadata": {},
   "outputs": [
    {
     "data": {
      "text/plain": [
       "((1372, 8), (1372, 1))"
      ]
     },
     "execution_count": 51,
     "metadata": {},
     "output_type": "execute_result"
    }
   ],
   "source": [
    "X.shape, Y.shape"
   ]
  },
  {
   "cell_type": "code",
   "execution_count": 52,
   "metadata": {},
   "outputs": [
    {
     "data": {
      "text/plain": [
       "1372"
      ]
     },
     "execution_count": 52,
     "metadata": {},
     "output_type": "execute_result"
    }
   ],
   "source": [
    "datasetsize=X.shape[0]\n",
    "datasetsize"
   ]
  },
  {
   "cell_type": "code",
   "execution_count": 53,
   "metadata": {},
   "outputs": [
    {
     "data": {
      "text/plain": [
       "4.456824512534819"
      ]
     },
     "execution_count": 53,
     "metadata": {},
     "output_type": "execute_result"
    }
   ],
   "source": [
    "percentRemoved=0\n",
    "\n",
    "percentRemoved= (csvToyota.shape[0]-datasetsize)/csvToyota.shape[0] * 100\n",
    "\n",
    "percentRemoved"
   ]
  },
  {
   "cell_type": "code",
   "execution_count": 54,
   "metadata": {},
   "outputs": [],
   "source": [
    "x_train, x_test, y_train, y_test= train_test_split(X,Y,test_size=0.3,random_state=42,shuffle=True)\n",
    "x_train=x_train.reset_index(drop=True)\n",
    "x_test=x_test.reset_index(drop=True)\n",
    "y_train=y_train.reset_index(drop=True)\n",
    "y_test=y_test.reset_index(drop=True)\n",
    "    \n",
    "\n",
    "model=sm.OLS(y_train,sm.add_constant(x_train))\n",
    "ml_results=model.fit()"
   ]
  },
  {
   "cell_type": "code",
   "execution_count": 55,
   "metadata": {},
   "outputs": [],
   "source": [
    "y_pred = ml_results.predict(sm.add_constant(x_test))"
   ]
  },
  {
   "cell_type": "code",
   "execution_count": 56,
   "metadata": {},
   "outputs": [
    {
     "name": "stdout",
     "output_type": "stream",
     "text": [
      "0      9.278483\n",
      "1      9.128704\n",
      "2      9.497554\n",
      "3      9.421248\n",
      "4      9.389815\n",
      "         ...   \n",
      "407    9.196535\n",
      "408    9.354588\n",
      "409    8.918304\n",
      "410    9.166847\n",
      "411    9.253287\n",
      "Length: 412, dtype: float64\n"
     ]
    }
   ],
   "source": [
    "print(y_pred.T)"
   ]
  },
  {
   "cell_type": "code",
   "execution_count": 57,
   "metadata": {},
   "outputs": [
    {
     "name": "stdout",
     "output_type": "stream",
     "text": [
      "Mean squared error: 0.010920746928847723\n"
     ]
    }
   ],
   "source": [
    "mse=mean_squared_error(y_test,y_pred)\n",
    "print(\"Mean squared error:\" ,mse)"
   ]
  },
  {
   "cell_type": "code",
   "execution_count": 58,
   "metadata": {},
   "outputs": [
    {
     "name": "stdout",
     "output_type": "stream",
     "text": [
      "Root mean squared error:  0.10450237762294082\n"
     ]
    }
   ],
   "source": [
    "print(\"Root mean squared error: \" ,math.sqrt(mse))"
   ]
  },
  {
   "cell_type": "code",
   "execution_count": 59,
   "metadata": {},
   "outputs": [
    {
     "name": "stdout",
     "output_type": "stream",
     "text": [
      "                            OLS Regression Results                            \n",
      "==============================================================================\n",
      "Dep. Variable:                  Price   R-squared:                       0.826\n",
      "Model:                            OLS   Adj. R-squared:                  0.824\n",
      "Method:                 Least Squares   F-statistic:                     562.9\n",
      "Date:                Tue, 25 Oct 2022   Prob (F-statistic):               0.00\n",
      "Time:                        00:24:57   Log-Likelihood:                 771.47\n",
      "No. Observations:                 960   AIC:                            -1525.\n",
      "Df Residuals:                     951   BIC:                            -1481.\n",
      "Df Model:                           8                                         \n",
      "Covariance Type:            nonrobust                                         \n",
      "===================================================================================\n",
      "                      coef    std err          t      P>|t|      [0.025      0.975]\n",
      "-----------------------------------------------------------------------------------\n",
      "const               9.0768      0.013    713.544      0.000       9.052       9.102\n",
      "Mfg_Year            0.7742      0.026     29.936      0.000       0.723       0.825\n",
      "KM                 -0.3805      0.026    -14.760      0.000      -0.431      -0.330\n",
      "Airco               0.0472      0.009      5.400      0.000       0.030       0.064\n",
      "Automatic_airco     0.1126      0.021      5.256      0.000       0.071       0.155\n",
      "Boardcomputer      -0.0108      0.012     -0.895      0.371      -0.034       0.013\n",
      "CD_Player           0.0202      0.010      1.978      0.048       0.000       0.040\n",
      "ABS                -0.0022      0.010     -0.229      0.819      -0.021       0.017\n",
      "Powered_Windows     0.0379      0.008      4.529      0.000       0.021       0.054\n",
      "==============================================================================\n",
      "Omnibus:                       13.175   Durbin-Watson:                   1.872\n",
      "Prob(Omnibus):                  0.001   Jarque-Bera (JB):               21.239\n",
      "Skew:                          -0.052   Prob(JB):                     2.44e-05\n",
      "Kurtosis:                       3.721   Cond. No.                         14.5\n",
      "==============================================================================\n",
      "\n",
      "Notes:\n",
      "[1] Standard Errors assume that the covariance matrix of the errors is correctly specified.\n"
     ]
    }
   ],
   "source": [
    "summary=ml_results.summary()\n",
    "print(summary)"
   ]
  },
  {
   "cell_type": "code",
   "execution_count": 60,
   "metadata": {},
   "outputs": [],
   "source": [
    "# Valores Ajustados\n",
    "fitted_values = ml_results.fittedvalues\n",
    "\n",
    "# Valores residuales\n",
    "residuals = ml_results.resid\n",
    "\n",
    "#residuales estandarizados\n",
    "lm_resid_stand = ml_results.get_influence().resid_studentized_internal\n",
    "\n",
    "#raiz de los residuales normalizados absolutos\n",
    "lm_resid_norm_abs_sqrt = np.sqrt(np.abs(lm_resid_stand))\n",
    "\n",
    "#residuales absolutos\n",
    "lm_resid_abs = np.abs(residuals)"
   ]
  },
  {
   "cell_type": "code",
   "execution_count": 61,
   "metadata": {},
   "outputs": [
    {
     "data": {
      "image/png": "[encoded data removed]",
      "text/plain": [
       "<Figure size 432x288 with 1 Axes>"
      ]
     },
     "metadata": {
      "needs_background": "light"
     },
     "output_type": "display_data"
    }
   ],
   "source": [
    "# Residuales\n",
    "plt.hist(ml_results.resid)\n",
    "plt.show()"
   ]
  },
  {
   "cell_type": "code",
   "execution_count": 62,
   "metadata": {},
   "outputs": [
    {
     "data": {
      "image/png": "[encoded data removed]",
      "text/plain": [
       "<Figure size 432x288 with 1 Axes>"
      ]
     },
     "metadata": {
      "needs_background": "light"
     },
     "output_type": "display_data"
    }
   ],
   "source": [
    "fig = sm.qqplot(lm_resid_stand,line='45')\n",
    "plt.show()"
   ]
  },
  {
   "cell_type": "code",
   "execution_count": 63,
   "metadata": {},
   "outputs": [
    {
     "data": {
      "text/plain": [
       "Text(0, 0.5, 'Residuals')"
      ]
     },
     "execution_count": 63,
     "metadata": {},
     "output_type": "execute_result"
    },
    {
     "data": {
      "image/png": "[encoded data removed]",
      "text/plain": [
       "<Figure size 432x288 with 1 Axes>"
      ]
     },
     "metadata": {
      "needs_background": "light"
     },
     "output_type": "display_data"
    }
   ],
   "source": [
    "plot = sns.residplot(x=fitted_values, y=residuals, lowess=True,\n",
    "                     scatter_kws={'alpha': 0.5},\n",
    "                     line_kws={'color': 'red', 'lw': 2, 'alpha': 0.8})\n",
    "\n",
    "# Titel and labels\n",
    "plot.set_title('Residuals vs Fitted')\n",
    "plot.set_xlabel('Fitted values')\n",
    "plot.set_ylabel('Residuals')\n",
    "\n"
   ]
  },
  {
   "cell_type": "markdown",
   "metadata": {},
   "source": [
    "<h1 style=\"color: violet\">VALIDACION CON X-VALIDATION</h1>"
   ]
  },
  {
   "cell_type": "code",
   "execution_count": 64,
   "metadata": {},
   "outputs": [],
   "source": [
    "Y=df_filtered[[\"Price\"]]\n",
    "X=dataset[[\"Mfg_Year\",\"KM\",\"Airco\",\"Automatic_airco\",\"Boardcomputer\",\"CD_Player\",\"ABS\",\"Powered_Windows\"]]"
   ]
  },
  {
   "cell_type": "code",
   "execution_count": 65,
   "metadata": {},
   "outputs": [
    {
     "name": "stderr",
     "output_type": "stream",
     "text": [
      "C:\\Users\\USUARIO\\AppData\\Local\\Temp\\ipykernel_3304\\3880681737.py:1: SettingWithCopyWarning: \n",
      "A value is trying to be set on a copy of a slice from a DataFrame.\n",
      "Try using .loc[row_indexer,col_indexer] = value instead\n",
      "\n",
      "See the caveats in the documentation: https://pandas.pydata.org/pandas-docs/stable/user_guide/indexing.html#returning-a-view-versus-a-copy\n",
      "  Y[\"Price\"]=np.log(Y[\"Price\"])\n"
     ]
    }
   ],
   "source": [
    "Y[\"Price\"]=np.log(Y[\"Price\"])"
   ]
  },
  {
   "cell_type": "code",
   "execution_count": 66,
   "metadata": {},
   "outputs": [
    {
     "data": {
      "text/plain": [
       "['accuracy',\n",
       " 'adjusted_mutual_info_score',\n",
       " 'adjusted_rand_score',\n",
       " 'average_precision',\n",
       " 'balanced_accuracy',\n",
       " 'completeness_score',\n",
       " 'explained_variance',\n",
       " 'f1',\n",
       " 'f1_macro',\n",
       " 'f1_micro',\n",
       " 'f1_samples',\n",
       " 'f1_weighted',\n",
       " 'fowlkes_mallows_score',\n",
       " 'homogeneity_score',\n",
       " 'jaccard',\n",
       " 'jaccard_macro',\n",
       " 'jaccard_micro',\n",
       " 'jaccard_samples',\n",
       " 'jaccard_weighted',\n",
       " 'matthews_corrcoef',\n",
       " 'max_error',\n",
       " 'mutual_info_score',\n",
       " 'neg_brier_score',\n",
       " 'neg_log_loss',\n",
       " 'neg_mean_absolute_error',\n",
       " 'neg_mean_absolute_percentage_error',\n",
       " 'neg_mean_gamma_deviance',\n",
       " 'neg_mean_poisson_deviance',\n",
       " 'neg_mean_squared_error',\n",
       " 'neg_mean_squared_log_error',\n",
       " 'neg_median_absolute_error',\n",
       " 'neg_root_mean_squared_error',\n",
       " 'normalized_mutual_info_score',\n",
       " 'precision',\n",
       " 'precision_macro',\n",
       " 'precision_micro',\n",
       " 'precision_samples',\n",
       " 'precision_weighted',\n",
       " 'r2',\n",
       " 'rand_score',\n",
       " 'recall',\n",
       " 'recall_macro',\n",
       " 'recall_micro',\n",
       " 'recall_samples',\n",
       " 'recall_weighted',\n",
       " 'roc_auc',\n",
       " 'roc_auc_ovo',\n",
       " 'roc_auc_ovo_weighted',\n",
       " 'roc_auc_ovr',\n",
       " 'roc_auc_ovr_weighted',\n",
       " 'top_k_accuracy',\n",
       " 'v_measure_score']"
      ]
     },
     "execution_count": 66,
     "metadata": {},
     "output_type": "execute_result"
    }
   ],
   "source": [
    "from sklearn.metrics import get_scorer_names\n",
    "\n",
    "get_scorer_names()"
   ]
  },
  {
   "cell_type": "code",
   "execution_count": 67,
   "metadata": {},
   "outputs": [],
   "source": [
    "kfold_param = {\n",
    "    'n_splits':10,\n",
    "    'shuffle':True,\n",
    "    'random_state':42\n",
    "}\n",
    "\n",
    "kfold = KFold(**kfold_param)\n",
    "\n",
    "clf_dt = LinearRegression()\n",
    "\n",
    "score = cross_val_score(clf_dt, X, Y,cv=kfold, n_jobs=-1,scoring=\"neg_mean_squared_error\")"
   ]
  },
  {
   "cell_type": "code",
   "execution_count": 68,
   "metadata": {},
   "outputs": [
    {
     "name": "stdout",
     "output_type": "stream",
     "text": [
      "[-0.01302011 -0.00724551 -0.01275411 -0.01171919 -0.00793917 -0.01382348\n",
      " -0.01408624 -0.01195505 -0.01291189 -0.01121553]\n"
     ]
    }
   ],
   "source": [
    "print(score)"
   ]
  },
  {
   "cell_type": "code",
   "execution_count": 69,
   "metadata": {},
   "outputs": [
    {
     "data": {
      "text/plain": [
       "0.011667028702128318"
      ]
     },
     "execution_count": 69,
     "metadata": {},
     "output_type": "execute_result"
    }
   ],
   "source": [
    "np.mean(abs(score))"
   ]
  },
  {
   "cell_type": "code",
   "execution_count": 70,
   "metadata": {},
   "outputs": [
    {
     "data": {
      "text/plain": [
       "0.10801402085899922"
      ]
     },
     "execution_count": 70,
     "metadata": {},
     "output_type": "execute_result"
    }
   ],
   "source": [
    "math.sqrt(np.mean(abs(score)))"
   ]
  },
  {
   "cell_type": "markdown",
   "metadata": {},
   "source": [
    "<h1>GUARDAR EXPERIMENTO</h1>"
   ]
  },
  {
   "cell_type": "code",
   "execution_count": 71,
   "metadata": {},
   "outputs": [],
   "source": [
    "from math import sqrt\n",
    "\n",
    "dict_values = {\n",
    "    'mse': mse,\n",
    "    'r2_adj': ml_results.rsquared_adj,\n",
    "    'rmse':sqrt(mse),\n",
    "    'PriceValueTruncDown' : outlierValuePriceDown,\n",
    "    'PriceValueTruncUp': outlierValuePriceUp\n",
    "}\n",
    "\n",
    "mlflow.set_tag('DatasetSize', datasetsize)\n",
    "mlflow.set_tag('PercentageDataRemoved',percentRemoved)\n",
    "mlflow.set_tag('Summary',summary)\n",
    "\n",
    "\n",
    "mlflow.log_metrics(dict_values)"
   ]
  },
  {
   "cell_type": "markdown",
   "metadata": {},
   "source": [
    "FINALIZAR EXPERIMENTO"
   ]
  },
  {
   "cell_type": "code",
   "execution_count": 72,
   "metadata": {},
   "outputs": [],
   "source": [
    "mlflow.end_run()"
   ]
  }
 ],
 "metadata": {
  "kernelspec": {
   "display_name": "Python 3.10.4 ('datamining')",
   "language": "python",
   "name": "python3"
  },
  "language_info": {
   "codemirror_mode": {
    "name": "ipython",
    "version": 3
   },
   "file_extension": ".py",
   "mimetype": "text/x-python",
   "name": "python",
   "nbconvert_exporter": "python",
   "pygments_lexer": "ipython3",
   "version": "3.10.4"
  },
  "orig_nbformat": 4,
  "vscode": {
   "interpreter": {
    "hash": "dd2c738cbc489a7192be84f527e2f9954c1c57bb6ac440df68d1356060f24e3c"
   }
  }
 },
 "nbformat": 4,
 "nbformat_minor": 2
}
