{
 "cells": [
  {
   "cell_type": "markdown",
   "metadata": {},
   "source": [
    "PRIMER PARCIAL"
   ]
  },
  {
   "cell_type": "code",
   "execution_count": 33,
   "metadata": {},
   "outputs": [],
   "source": [
    "import pandas as pd\n",
    "import matplotlib.pyplot as plt\n",
    "from sklearn.preprocessing import StandardScaler, MinMaxScaler\n",
    "import numpy as np\n",
    "from sklearn.feature_selection import SelectKBest, f_regression\n",
    "import statsmodels.api as sm\n",
    "import seaborn as sns\n",
    "from sklearn.model_selection import train_test_split\n",
    "from sklearn.metrics import mean_squared_error\n",
    "from sklearn.linear_model import LinearRegression,Ridge,Lasso\n",
    "from sklearn.model_selection import KFold, cross_val_score, GridSearchCV\n",
    "import math\n",
    "import mlflow"
   ]
  },
  {
   "cell_type": "code",
   "execution_count": 34,
   "metadata": {},
   "outputs": [],
   "source": [
    "csvToyota= pd.read_csv(\"ToyotaCorolla_modificado.csv\")\n"
   ]
  },
  {
   "cell_type": "markdown",
   "metadata": {},
   "source": [
    "TRATAMIENTO DE LA VARIABLE DUMMY"
   ]
  },
  {
   "cell_type": "code",
   "execution_count": 35,
   "metadata": {},
   "outputs": [],
   "source": [
    "dummies=pd.get_dummies(csvToyota[\"Fuel_Type\"])\n",
    "csvToyota=csvToyota.drop(columns=[\"Fuel_Type\"])\n",
    "\n",
    "csvToyota[dummies.columns]=dummies\n"
   ]
  },
  {
   "cell_type": "code",
   "execution_count": 36,
   "metadata": {},
   "outputs": [
    {
     "data": {
      "text/html": [
       "<div>\n",
       "<style scoped>\n",
       "    .dataframe tbody tr th:only-of-type {\n",
       "        vertical-align: middle;\n",
       "    }\n",
       "\n",
       "    .dataframe tbody tr th {\n",
       "        vertical-align: top;\n",
       "    }\n",
       "\n",
       "    .dataframe thead th {\n",
       "        text-align: right;\n",
       "    }\n",
       "</style>\n",
       "<table border=\"1\" class=\"dataframe\">\n",
       "  <thead>\n",
       "    <tr style=\"text-align: right;\">\n",
       "      <th></th>\n",
       "      <th>count</th>\n",
       "      <th>mean</th>\n",
       "      <th>std</th>\n",
       "      <th>min</th>\n",
       "      <th>25%</th>\n",
       "      <th>50%</th>\n",
       "      <th>75%</th>\n",
       "      <th>max</th>\n",
       "    </tr>\n",
       "  </thead>\n",
       "  <tbody>\n",
       "    <tr>\n",
       "      <th>Price</th>\n",
       "      <td>1436.0</td>\n",
       "      <td>10730.824513</td>\n",
       "      <td>3626.964585</td>\n",
       "      <td>4350.0</td>\n",
       "      <td>8450.0</td>\n",
       "      <td>9900.0</td>\n",
       "      <td>11950.00</td>\n",
       "      <td>32500.0</td>\n",
       "    </tr>\n",
       "    <tr>\n",
       "      <th>Mfg_Year</th>\n",
       "      <td>1436.0</td>\n",
       "      <td>1999.625348</td>\n",
       "      <td>1.540722</td>\n",
       "      <td>1998.0</td>\n",
       "      <td>1998.0</td>\n",
       "      <td>1999.0</td>\n",
       "      <td>2001.00</td>\n",
       "      <td>2004.0</td>\n",
       "    </tr>\n",
       "    <tr>\n",
       "      <th>KM</th>\n",
       "      <td>1436.0</td>\n",
       "      <td>68533.259749</td>\n",
       "      <td>37506.448872</td>\n",
       "      <td>1.0</td>\n",
       "      <td>43000.0</td>\n",
       "      <td>63389.5</td>\n",
       "      <td>87020.75</td>\n",
       "      <td>243000.0</td>\n",
       "    </tr>\n",
       "    <tr>\n",
       "      <th>HP</th>\n",
       "      <td>1436.0</td>\n",
       "      <td>101.502089</td>\n",
       "      <td>14.981080</td>\n",
       "      <td>69.0</td>\n",
       "      <td>90.0</td>\n",
       "      <td>110.0</td>\n",
       "      <td>110.00</td>\n",
       "      <td>192.0</td>\n",
       "    </tr>\n",
       "    <tr>\n",
       "      <th>Met_Color</th>\n",
       "      <td>1436.0</td>\n",
       "      <td>0.674791</td>\n",
       "      <td>0.468616</td>\n",
       "      <td>0.0</td>\n",
       "      <td>0.0</td>\n",
       "      <td>1.0</td>\n",
       "      <td>1.00</td>\n",
       "      <td>1.0</td>\n",
       "    </tr>\n",
       "    <tr>\n",
       "      <th>cc</th>\n",
       "      <td>1436.0</td>\n",
       "      <td>1576.855850</td>\n",
       "      <td>424.386770</td>\n",
       "      <td>1300.0</td>\n",
       "      <td>1400.0</td>\n",
       "      <td>1600.0</td>\n",
       "      <td>1600.00</td>\n",
       "      <td>16000.0</td>\n",
       "    </tr>\n",
       "    <tr>\n",
       "      <th>Doors</th>\n",
       "      <td>1436.0</td>\n",
       "      <td>4.033426</td>\n",
       "      <td>0.952677</td>\n",
       "      <td>2.0</td>\n",
       "      <td>3.0</td>\n",
       "      <td>4.0</td>\n",
       "      <td>5.00</td>\n",
       "      <td>5.0</td>\n",
       "    </tr>\n",
       "    <tr>\n",
       "      <th>Quarterly_Tax</th>\n",
       "      <td>1436.0</td>\n",
       "      <td>87.122563</td>\n",
       "      <td>41.128611</td>\n",
       "      <td>19.0</td>\n",
       "      <td>69.0</td>\n",
       "      <td>85.0</td>\n",
       "      <td>85.00</td>\n",
       "      <td>283.0</td>\n",
       "    </tr>\n",
       "    <tr>\n",
       "      <th>Mfr_Guarantee</th>\n",
       "      <td>1436.0</td>\n",
       "      <td>0.409471</td>\n",
       "      <td>0.491907</td>\n",
       "      <td>0.0</td>\n",
       "      <td>0.0</td>\n",
       "      <td>0.0</td>\n",
       "      <td>1.00</td>\n",
       "      <td>1.0</td>\n",
       "    </tr>\n",
       "    <tr>\n",
       "      <th>Guarantee_Period</th>\n",
       "      <td>1436.0</td>\n",
       "      <td>3.815460</td>\n",
       "      <td>3.011025</td>\n",
       "      <td>3.0</td>\n",
       "      <td>3.0</td>\n",
       "      <td>3.0</td>\n",
       "      <td>3.00</td>\n",
       "      <td>36.0</td>\n",
       "    </tr>\n",
       "    <tr>\n",
       "      <th>ABS</th>\n",
       "      <td>1436.0</td>\n",
       "      <td>0.813370</td>\n",
       "      <td>0.389750</td>\n",
       "      <td>0.0</td>\n",
       "      <td>1.0</td>\n",
       "      <td>1.0</td>\n",
       "      <td>1.00</td>\n",
       "      <td>1.0</td>\n",
       "    </tr>\n",
       "    <tr>\n",
       "      <th>Airbag_1</th>\n",
       "      <td>1436.0</td>\n",
       "      <td>0.970752</td>\n",
       "      <td>0.168559</td>\n",
       "      <td>0.0</td>\n",
       "      <td>1.0</td>\n",
       "      <td>1.0</td>\n",
       "      <td>1.00</td>\n",
       "      <td>1.0</td>\n",
       "    </tr>\n",
       "    <tr>\n",
       "      <th>Airbag_2</th>\n",
       "      <td>1436.0</td>\n",
       "      <td>0.722841</td>\n",
       "      <td>0.447751</td>\n",
       "      <td>0.0</td>\n",
       "      <td>0.0</td>\n",
       "      <td>1.0</td>\n",
       "      <td>1.00</td>\n",
       "      <td>1.0</td>\n",
       "    </tr>\n",
       "    <tr>\n",
       "      <th>Airco</th>\n",
       "      <td>1436.0</td>\n",
       "      <td>0.508357</td>\n",
       "      <td>0.500104</td>\n",
       "      <td>0.0</td>\n",
       "      <td>0.0</td>\n",
       "      <td>1.0</td>\n",
       "      <td>1.00</td>\n",
       "      <td>1.0</td>\n",
       "    </tr>\n",
       "    <tr>\n",
       "      <th>Automatic_airco</th>\n",
       "      <td>1436.0</td>\n",
       "      <td>0.056407</td>\n",
       "      <td>0.230786</td>\n",
       "      <td>0.0</td>\n",
       "      <td>0.0</td>\n",
       "      <td>0.0</td>\n",
       "      <td>0.00</td>\n",
       "      <td>1.0</td>\n",
       "    </tr>\n",
       "    <tr>\n",
       "      <th>Boardcomputer</th>\n",
       "      <td>1436.0</td>\n",
       "      <td>0.294568</td>\n",
       "      <td>0.456007</td>\n",
       "      <td>0.0</td>\n",
       "      <td>0.0</td>\n",
       "      <td>0.0</td>\n",
       "      <td>1.00</td>\n",
       "      <td>1.0</td>\n",
       "    </tr>\n",
       "    <tr>\n",
       "      <th>CD_Player</th>\n",
       "      <td>1436.0</td>\n",
       "      <td>0.218663</td>\n",
       "      <td>0.413483</td>\n",
       "      <td>0.0</td>\n",
       "      <td>0.0</td>\n",
       "      <td>0.0</td>\n",
       "      <td>0.00</td>\n",
       "      <td>1.0</td>\n",
       "    </tr>\n",
       "    <tr>\n",
       "      <th>Central_Lock</th>\n",
       "      <td>1436.0</td>\n",
       "      <td>0.580084</td>\n",
       "      <td>0.493717</td>\n",
       "      <td>0.0</td>\n",
       "      <td>0.0</td>\n",
       "      <td>1.0</td>\n",
       "      <td>1.00</td>\n",
       "      <td>1.0</td>\n",
       "    </tr>\n",
       "    <tr>\n",
       "      <th>Powered_Windows</th>\n",
       "      <td>1436.0</td>\n",
       "      <td>0.561978</td>\n",
       "      <td>0.496317</td>\n",
       "      <td>0.0</td>\n",
       "      <td>0.0</td>\n",
       "      <td>1.0</td>\n",
       "      <td>1.00</td>\n",
       "      <td>1.0</td>\n",
       "    </tr>\n",
       "    <tr>\n",
       "      <th>Mistlamps</th>\n",
       "      <td>1436.0</td>\n",
       "      <td>0.256964</td>\n",
       "      <td>0.437111</td>\n",
       "      <td>0.0</td>\n",
       "      <td>0.0</td>\n",
       "      <td>0.0</td>\n",
       "      <td>1.00</td>\n",
       "      <td>1.0</td>\n",
       "    </tr>\n",
       "    <tr>\n",
       "      <th>Sport_Model</th>\n",
       "      <td>1436.0</td>\n",
       "      <td>0.300139</td>\n",
       "      <td>0.458478</td>\n",
       "      <td>0.0</td>\n",
       "      <td>0.0</td>\n",
       "      <td>0.0</td>\n",
       "      <td>1.00</td>\n",
       "      <td>1.0</td>\n",
       "    </tr>\n",
       "    <tr>\n",
       "      <th>Backseat_Divider</th>\n",
       "      <td>1436.0</td>\n",
       "      <td>0.770195</td>\n",
       "      <td>0.420854</td>\n",
       "      <td>0.0</td>\n",
       "      <td>1.0</td>\n",
       "      <td>1.0</td>\n",
       "      <td>1.00</td>\n",
       "      <td>1.0</td>\n",
       "    </tr>\n",
       "    <tr>\n",
       "      <th>Metallic_Rim</th>\n",
       "      <td>1436.0</td>\n",
       "      <td>0.204735</td>\n",
       "      <td>0.403649</td>\n",
       "      <td>0.0</td>\n",
       "      <td>0.0</td>\n",
       "      <td>0.0</td>\n",
       "      <td>0.00</td>\n",
       "      <td>1.0</td>\n",
       "    </tr>\n",
       "    <tr>\n",
       "      <th>Tow_Bar</th>\n",
       "      <td>1436.0</td>\n",
       "      <td>0.277855</td>\n",
       "      <td>0.448098</td>\n",
       "      <td>0.0</td>\n",
       "      <td>0.0</td>\n",
       "      <td>0.0</td>\n",
       "      <td>1.00</td>\n",
       "      <td>1.0</td>\n",
       "    </tr>\n",
       "    <tr>\n",
       "      <th>CNG</th>\n",
       "      <td>1436.0</td>\n",
       "      <td>0.011838</td>\n",
       "      <td>0.108196</td>\n",
       "      <td>0.0</td>\n",
       "      <td>0.0</td>\n",
       "      <td>0.0</td>\n",
       "      <td>0.00</td>\n",
       "      <td>1.0</td>\n",
       "    </tr>\n",
       "    <tr>\n",
       "      <th>Diesel</th>\n",
       "      <td>1436.0</td>\n",
       "      <td>0.107939</td>\n",
       "      <td>0.310411</td>\n",
       "      <td>0.0</td>\n",
       "      <td>0.0</td>\n",
       "      <td>0.0</td>\n",
       "      <td>0.00</td>\n",
       "      <td>1.0</td>\n",
       "    </tr>\n",
       "    <tr>\n",
       "      <th>Petrol</th>\n",
       "      <td>1436.0</td>\n",
       "      <td>0.880223</td>\n",
       "      <td>0.324814</td>\n",
       "      <td>0.0</td>\n",
       "      <td>1.0</td>\n",
       "      <td>1.0</td>\n",
       "      <td>1.00</td>\n",
       "      <td>1.0</td>\n",
       "    </tr>\n",
       "  </tbody>\n",
       "</table>\n",
       "</div>"
      ],
      "text/plain": [
       "                   count          mean           std     min      25%  \\\n",
       "Price             1436.0  10730.824513   3626.964585  4350.0   8450.0   \n",
       "Mfg_Year          1436.0   1999.625348      1.540722  1998.0   1998.0   \n",
       "KM                1436.0  68533.259749  37506.448872     1.0  43000.0   \n",
       "HP                1436.0    101.502089     14.981080    69.0     90.0   \n",
       "Met_Color         1436.0      0.674791      0.468616     0.0      0.0   \n",
       "cc                1436.0   1576.855850    424.386770  1300.0   1400.0   \n",
       "Doors             1436.0      4.033426      0.952677     2.0      3.0   \n",
       "Quarterly_Tax     1436.0     87.122563     41.128611    19.0     69.0   \n",
       "Mfr_Guarantee     1436.0      0.409471      0.491907     0.0      0.0   \n",
       "Guarantee_Period  1436.0      3.815460      3.011025     3.0      3.0   \n",
       "ABS               1436.0      0.813370      0.389750     0.0      1.0   \n",
       "Airbag_1          1436.0      0.970752      0.168559     0.0      1.0   \n",
       "Airbag_2          1436.0      0.722841      0.447751     0.0      0.0   \n",
       "Airco             1436.0      0.508357      0.500104     0.0      0.0   \n",
       "Automatic_airco   1436.0      0.056407      0.230786     0.0      0.0   \n",
       "Boardcomputer     1436.0      0.294568      0.456007     0.0      0.0   \n",
       "CD_Player         1436.0      0.218663      0.413483     0.0      0.0   \n",
       "Central_Lock      1436.0      0.580084      0.493717     0.0      0.0   \n",
       "Powered_Windows   1436.0      0.561978      0.496317     0.0      0.0   \n",
       "Mistlamps         1436.0      0.256964      0.437111     0.0      0.0   \n",
       "Sport_Model       1436.0      0.300139      0.458478     0.0      0.0   \n",
       "Backseat_Divider  1436.0      0.770195      0.420854     0.0      1.0   \n",
       "Metallic_Rim      1436.0      0.204735      0.403649     0.0      0.0   \n",
       "Tow_Bar           1436.0      0.277855      0.448098     0.0      0.0   \n",
       "CNG               1436.0      0.011838      0.108196     0.0      0.0   \n",
       "Diesel            1436.0      0.107939      0.310411     0.0      0.0   \n",
       "Petrol            1436.0      0.880223      0.324814     0.0      1.0   \n",
       "\n",
       "                      50%       75%       max  \n",
       "Price              9900.0  11950.00   32500.0  \n",
       "Mfg_Year           1999.0   2001.00    2004.0  \n",
       "KM                63389.5  87020.75  243000.0  \n",
       "HP                  110.0    110.00     192.0  \n",
       "Met_Color             1.0      1.00       1.0  \n",
       "cc                 1600.0   1600.00   16000.0  \n",
       "Doors                 4.0      5.00       5.0  \n",
       "Quarterly_Tax        85.0     85.00     283.0  \n",
       "Mfr_Guarantee         0.0      1.00       1.0  \n",
       "Guarantee_Period      3.0      3.00      36.0  \n",
       "ABS                   1.0      1.00       1.0  \n",
       "Airbag_1              1.0      1.00       1.0  \n",
       "Airbag_2              1.0      1.00       1.0  \n",
       "Airco                 1.0      1.00       1.0  \n",
       "Automatic_airco       0.0      0.00       1.0  \n",
       "Boardcomputer         0.0      1.00       1.0  \n",
       "CD_Player             0.0      0.00       1.0  \n",
       "Central_Lock          1.0      1.00       1.0  \n",
       "Powered_Windows       1.0      1.00       1.0  \n",
       "Mistlamps             0.0      1.00       1.0  \n",
       "Sport_Model           0.0      1.00       1.0  \n",
       "Backseat_Divider      1.0      1.00       1.0  \n",
       "Metallic_Rim          0.0      0.00       1.0  \n",
       "Tow_Bar               0.0      1.00       1.0  \n",
       "CNG                   0.0      0.00       1.0  \n",
       "Diesel                0.0      0.00       1.0  \n",
       "Petrol                1.0      1.00       1.0  "
      ]
     },
     "execution_count": 36,
     "metadata": {},
     "output_type": "execute_result"
    }
   ],
   "source": [
    "columns_to_delete=[\"Id\",\"Model\",\"Age_08_04\",\"Cylinders\",\"Weight\",\"Radio_cassette\",\"Power_Steering\",\"Gears\",\"Automatic\",\"Radio\",\n",
    "                   \"Power_Steering\",\"BOVAG_Guarantee\",\"Mfg_Month\"]\n",
    "\n",
    "df_test=csvToyota.drop(columns=columns_to_delete)\n",
    "df_test.describe(include=\"all\").T"
   ]
  },
  {
   "cell_type": "code",
   "execution_count": 37,
   "metadata": {},
   "outputs": [],
   "source": [
    "outlierValuePriceDown=5000\n",
    "outlierValuePriceUp=18500\n",
    "df_filtered=df_test[(df_test[\"Price\"]>outlierValuePriceDown)&(df_test[\"Price\"]<=outlierValuePriceUp)]"
   ]
  },
  {
   "cell_type": "markdown",
   "metadata": {},
   "source": [
    "<h1>CREAR EXPERIMENTO</h1>"
   ]
  },
  {
   "cell_type": "code",
   "execution_count": 38,
   "metadata": {},
   "outputs": [
    {
     "data": {
      "text/plain": [
       "<Experiment: artifact_location='file:///C:/Users/USUARIO/Desktop/ISI/5to%20a%C3%B1o/Inteligencia%20Empresarial%20y%20Datamining/Actividades/Actividad%205%20-%2010-10-2022/mlruns/7', creation_time=1666710021527, experiment_id='7', last_update_time=1666710021527, lifecycle_stage='active', name='ridge', tags={}>"
      ]
     },
     "execution_count": 38,
     "metadata": {},
     "output_type": "execute_result"
    }
   ],
   "source": [
    "experiment_name = 'ridge'\n",
    "\n",
    "dict_values = {\n",
    "    'mse':0,\n",
    "    'r2_adj':0,\n",
    "    'rmse':0\n",
    "}\n",
    "\n",
    "\n",
    "def load_create_experiment():\n",
    "    if mlflow.get_experiment_by_name(experiment_name):\n",
    "        return mlflow.get_experiment_by_name(experiment_name)\n",
    "    return mlflow.create_experiment(experiment_name)\n",
    "    \n",
    "current_experiment = load_create_experiment()\n",
    "mlflow.set_experiment(experiment_name)"
   ]
  },
  {
   "cell_type": "code",
   "execution_count": 39,
   "metadata": {},
   "outputs": [
    {
     "data": {
      "text/plain": [
       "<ActiveRun: >"
      ]
     },
     "execution_count": 39,
     "metadata": {},
     "output_type": "execute_result"
    }
   ],
   "source": [
    "mlflow.start_run()"
   ]
  },
  {
   "cell_type": "markdown",
   "metadata": {},
   "source": [
    "<h1 style=\"color: cyan\">NORMALIZACION</h1>"
   ]
  },
  {
   "cell_type": "code",
   "execution_count": 40,
   "metadata": {},
   "outputs": [
    {
     "data": {
      "text/html": [
       "<div>\n",
       "<style scoped>\n",
       "    .dataframe tbody tr th:only-of-type {\n",
       "        vertical-align: middle;\n",
       "    }\n",
       "\n",
       "    .dataframe tbody tr th {\n",
       "        vertical-align: top;\n",
       "    }\n",
       "\n",
       "    .dataframe thead th {\n",
       "        text-align: right;\n",
       "    }\n",
       "</style>\n",
       "<table border=\"1\" class=\"dataframe\">\n",
       "  <thead>\n",
       "    <tr style=\"text-align: right;\">\n",
       "      <th></th>\n",
       "      <th>count</th>\n",
       "      <th>mean</th>\n",
       "      <th>std</th>\n",
       "      <th>min</th>\n",
       "      <th>25%</th>\n",
       "      <th>50%</th>\n",
       "      <th>75%</th>\n",
       "      <th>max</th>\n",
       "    </tr>\n",
       "  </thead>\n",
       "  <tbody>\n",
       "    <tr>\n",
       "      <th>Price</th>\n",
       "      <td>1351.0</td>\n",
       "      <td>0.373303</td>\n",
       "      <td>0.194722</td>\n",
       "      <td>0.0</td>\n",
       "      <td>0.232210</td>\n",
       "      <td>0.344569</td>\n",
       "      <td>0.471910</td>\n",
       "      <td>1.0</td>\n",
       "    </tr>\n",
       "    <tr>\n",
       "      <th>Mfg_Year</th>\n",
       "      <td>1351.0</td>\n",
       "      <td>0.237478</td>\n",
       "      <td>0.222228</td>\n",
       "      <td>0.0</td>\n",
       "      <td>0.000000</td>\n",
       "      <td>0.166667</td>\n",
       "      <td>0.333333</td>\n",
       "      <td>1.0</td>\n",
       "    </tr>\n",
       "    <tr>\n",
       "      <th>KM</th>\n",
       "      <td>1351.0</td>\n",
       "      <td>0.292132</td>\n",
       "      <td>0.149570</td>\n",
       "      <td>0.0</td>\n",
       "      <td>0.189091</td>\n",
       "      <td>0.268553</td>\n",
       "      <td>0.365855</td>\n",
       "      <td>1.0</td>\n",
       "    </tr>\n",
       "    <tr>\n",
       "      <th>HP</th>\n",
       "      <td>1351.0</td>\n",
       "      <td>0.671481</td>\n",
       "      <td>0.271844</td>\n",
       "      <td>0.0</td>\n",
       "      <td>0.361702</td>\n",
       "      <td>0.872340</td>\n",
       "      <td>0.872340</td>\n",
       "      <td>1.0</td>\n",
       "    </tr>\n",
       "    <tr>\n",
       "      <th>Met_Color</th>\n",
       "      <td>1351.0</td>\n",
       "      <td>0.669134</td>\n",
       "      <td>0.470699</td>\n",
       "      <td>0.0</td>\n",
       "      <td>0.000000</td>\n",
       "      <td>1.000000</td>\n",
       "      <td>1.000000</td>\n",
       "      <td>1.0</td>\n",
       "    </tr>\n",
       "    <tr>\n",
       "      <th>cc</th>\n",
       "      <td>1351.0</td>\n",
       "      <td>0.367642</td>\n",
       "      <td>0.262234</td>\n",
       "      <td>0.0</td>\n",
       "      <td>0.142857</td>\n",
       "      <td>0.428571</td>\n",
       "      <td>0.428571</td>\n",
       "      <td>1.0</td>\n",
       "    </tr>\n",
       "    <tr>\n",
       "      <th>Doors</th>\n",
       "      <td>1351.0</td>\n",
       "      <td>0.668641</td>\n",
       "      <td>0.317391</td>\n",
       "      <td>0.0</td>\n",
       "      <td>0.333333</td>\n",
       "      <td>0.666667</td>\n",
       "      <td>1.000000</td>\n",
       "      <td>1.0</td>\n",
       "    </tr>\n",
       "    <tr>\n",
       "      <th>Quarterly_Tax</th>\n",
       "      <td>1351.0</td>\n",
       "      <td>0.307858</td>\n",
       "      <td>0.177900</td>\n",
       "      <td>0.0</td>\n",
       "      <td>0.232558</td>\n",
       "      <td>0.306977</td>\n",
       "      <td>0.306977</td>\n",
       "      <td>1.0</td>\n",
       "    </tr>\n",
       "    <tr>\n",
       "      <th>Mfr_Guarantee</th>\n",
       "      <td>1351.0</td>\n",
       "      <td>0.404145</td>\n",
       "      <td>0.490908</td>\n",
       "      <td>0.0</td>\n",
       "      <td>0.000000</td>\n",
       "      <td>0.000000</td>\n",
       "      <td>1.000000</td>\n",
       "      <td>1.0</td>\n",
       "    </tr>\n",
       "    <tr>\n",
       "      <th>Guarantee_Period</th>\n",
       "      <td>1351.0</td>\n",
       "      <td>0.023821</td>\n",
       "      <td>0.087870</td>\n",
       "      <td>0.0</td>\n",
       "      <td>0.000000</td>\n",
       "      <td>0.000000</td>\n",
       "      <td>0.000000</td>\n",
       "      <td>1.0</td>\n",
       "    </tr>\n",
       "    <tr>\n",
       "      <th>ABS</th>\n",
       "      <td>1351.0</td>\n",
       "      <td>0.802369</td>\n",
       "      <td>0.398360</td>\n",
       "      <td>0.0</td>\n",
       "      <td>1.000000</td>\n",
       "      <td>1.000000</td>\n",
       "      <td>1.000000</td>\n",
       "      <td>1.0</td>\n",
       "    </tr>\n",
       "    <tr>\n",
       "      <th>Airbag_1</th>\n",
       "      <td>1351.0</td>\n",
       "      <td>0.969652</td>\n",
       "      <td>0.171606</td>\n",
       "      <td>0.0</td>\n",
       "      <td>1.000000</td>\n",
       "      <td>1.000000</td>\n",
       "      <td>1.000000</td>\n",
       "      <td>1.0</td>\n",
       "    </tr>\n",
       "    <tr>\n",
       "      <th>Airbag_2</th>\n",
       "      <td>1351.0</td>\n",
       "      <td>0.715766</td>\n",
       "      <td>0.451216</td>\n",
       "      <td>0.0</td>\n",
       "      <td>0.000000</td>\n",
       "      <td>1.000000</td>\n",
       "      <td>1.000000</td>\n",
       "      <td>1.0</td>\n",
       "    </tr>\n",
       "    <tr>\n",
       "      <th>Airco</th>\n",
       "      <td>1351.0</td>\n",
       "      <td>0.479645</td>\n",
       "      <td>0.499770</td>\n",
       "      <td>0.0</td>\n",
       "      <td>0.000000</td>\n",
       "      <td>0.000000</td>\n",
       "      <td>1.000000</td>\n",
       "      <td>1.0</td>\n",
       "    </tr>\n",
       "    <tr>\n",
       "      <th>Automatic_airco</th>\n",
       "      <td>1351.0</td>\n",
       "      <td>0.018505</td>\n",
       "      <td>0.134818</td>\n",
       "      <td>0.0</td>\n",
       "      <td>0.000000</td>\n",
       "      <td>0.000000</td>\n",
       "      <td>0.000000</td>\n",
       "      <td>1.0</td>\n",
       "    </tr>\n",
       "    <tr>\n",
       "      <th>Boardcomputer</th>\n",
       "      <td>1351.0</td>\n",
       "      <td>0.265729</td>\n",
       "      <td>0.441884</td>\n",
       "      <td>0.0</td>\n",
       "      <td>0.000000</td>\n",
       "      <td>0.000000</td>\n",
       "      <td>1.000000</td>\n",
       "      <td>1.0</td>\n",
       "    </tr>\n",
       "    <tr>\n",
       "      <th>CD_Player</th>\n",
       "      <td>1351.0</td>\n",
       "      <td>0.193930</td>\n",
       "      <td>0.395521</td>\n",
       "      <td>0.0</td>\n",
       "      <td>0.000000</td>\n",
       "      <td>0.000000</td>\n",
       "      <td>0.000000</td>\n",
       "      <td>1.0</td>\n",
       "    </tr>\n",
       "    <tr>\n",
       "      <th>Central_Lock</th>\n",
       "      <td>1351.0</td>\n",
       "      <td>0.554404</td>\n",
       "      <td>0.497215</td>\n",
       "      <td>0.0</td>\n",
       "      <td>0.000000</td>\n",
       "      <td>1.000000</td>\n",
       "      <td>1.000000</td>\n",
       "      <td>1.0</td>\n",
       "    </tr>\n",
       "    <tr>\n",
       "      <th>Powered_Windows</th>\n",
       "      <td>1351.0</td>\n",
       "      <td>0.536640</td>\n",
       "      <td>0.498840</td>\n",
       "      <td>0.0</td>\n",
       "      <td>0.000000</td>\n",
       "      <td>1.000000</td>\n",
       "      <td>1.000000</td>\n",
       "      <td>1.0</td>\n",
       "    </tr>\n",
       "    <tr>\n",
       "      <th>Mistlamps</th>\n",
       "      <td>1351.0</td>\n",
       "      <td>0.238342</td>\n",
       "      <td>0.426227</td>\n",
       "      <td>0.0</td>\n",
       "      <td>0.000000</td>\n",
       "      <td>0.000000</td>\n",
       "      <td>0.000000</td>\n",
       "      <td>1.0</td>\n",
       "    </tr>\n",
       "    <tr>\n",
       "      <th>Sport_Model</th>\n",
       "      <td>1351.0</td>\n",
       "      <td>0.279793</td>\n",
       "      <td>0.449064</td>\n",
       "      <td>0.0</td>\n",
       "      <td>0.000000</td>\n",
       "      <td>0.000000</td>\n",
       "      <td>1.000000</td>\n",
       "      <td>1.0</td>\n",
       "    </tr>\n",
       "    <tr>\n",
       "      <th>Backseat_Divider</th>\n",
       "      <td>1351.0</td>\n",
       "      <td>0.771281</td>\n",
       "      <td>0.420164</td>\n",
       "      <td>0.0</td>\n",
       "      <td>1.000000</td>\n",
       "      <td>1.000000</td>\n",
       "      <td>1.000000</td>\n",
       "      <td>1.0</td>\n",
       "    </tr>\n",
       "    <tr>\n",
       "      <th>Metallic_Rim</th>\n",
       "      <td>1351.0</td>\n",
       "      <td>0.190970</td>\n",
       "      <td>0.393211</td>\n",
       "      <td>0.0</td>\n",
       "      <td>0.000000</td>\n",
       "      <td>0.000000</td>\n",
       "      <td>0.000000</td>\n",
       "      <td>1.0</td>\n",
       "    </tr>\n",
       "    <tr>\n",
       "      <th>Tow_Bar</th>\n",
       "      <td>1351.0</td>\n",
       "      <td>0.292376</td>\n",
       "      <td>0.455023</td>\n",
       "      <td>0.0</td>\n",
       "      <td>0.000000</td>\n",
       "      <td>0.000000</td>\n",
       "      <td>1.000000</td>\n",
       "      <td>1.0</td>\n",
       "    </tr>\n",
       "    <tr>\n",
       "      <th>CNG</th>\n",
       "      <td>1351.0</td>\n",
       "      <td>0.012583</td>\n",
       "      <td>0.111508</td>\n",
       "      <td>0.0</td>\n",
       "      <td>0.000000</td>\n",
       "      <td>0.000000</td>\n",
       "      <td>0.000000</td>\n",
       "      <td>1.0</td>\n",
       "    </tr>\n",
       "    <tr>\n",
       "      <th>Diesel</th>\n",
       "      <td>1351.0</td>\n",
       "      <td>0.097705</td>\n",
       "      <td>0.297026</td>\n",
       "      <td>0.0</td>\n",
       "      <td>0.000000</td>\n",
       "      <td>0.000000</td>\n",
       "      <td>0.000000</td>\n",
       "      <td>1.0</td>\n",
       "    </tr>\n",
       "    <tr>\n",
       "      <th>Petrol</th>\n",
       "      <td>1351.0</td>\n",
       "      <td>0.889711</td>\n",
       "      <td>0.313365</td>\n",
       "      <td>0.0</td>\n",
       "      <td>1.000000</td>\n",
       "      <td>1.000000</td>\n",
       "      <td>1.000000</td>\n",
       "      <td>1.0</td>\n",
       "    </tr>\n",
       "  </tbody>\n",
       "</table>\n",
       "</div>"
      ],
      "text/plain": [
       "                   count      mean       std  min       25%       50%  \\\n",
       "Price             1351.0  0.373303  0.194722  0.0  0.232210  0.344569   \n",
       "Mfg_Year          1351.0  0.237478  0.222228  0.0  0.000000  0.166667   \n",
       "KM                1351.0  0.292132  0.149570  0.0  0.189091  0.268553   \n",
       "HP                1351.0  0.671481  0.271844  0.0  0.361702  0.872340   \n",
       "Met_Color         1351.0  0.669134  0.470699  0.0  0.000000  1.000000   \n",
       "cc                1351.0  0.367642  0.262234  0.0  0.142857  0.428571   \n",
       "Doors             1351.0  0.668641  0.317391  0.0  0.333333  0.666667   \n",
       "Quarterly_Tax     1351.0  0.307858  0.177900  0.0  0.232558  0.306977   \n",
       "Mfr_Guarantee     1351.0  0.404145  0.490908  0.0  0.000000  0.000000   \n",
       "Guarantee_Period  1351.0  0.023821  0.087870  0.0  0.000000  0.000000   \n",
       "ABS               1351.0  0.802369  0.398360  0.0  1.000000  1.000000   \n",
       "Airbag_1          1351.0  0.969652  0.171606  0.0  1.000000  1.000000   \n",
       "Airbag_2          1351.0  0.715766  0.451216  0.0  0.000000  1.000000   \n",
       "Airco             1351.0  0.479645  0.499770  0.0  0.000000  0.000000   \n",
       "Automatic_airco   1351.0  0.018505  0.134818  0.0  0.000000  0.000000   \n",
       "Boardcomputer     1351.0  0.265729  0.441884  0.0  0.000000  0.000000   \n",
       "CD_Player         1351.0  0.193930  0.395521  0.0  0.000000  0.000000   \n",
       "Central_Lock      1351.0  0.554404  0.497215  0.0  0.000000  1.000000   \n",
       "Powered_Windows   1351.0  0.536640  0.498840  0.0  0.000000  1.000000   \n",
       "Mistlamps         1351.0  0.238342  0.426227  0.0  0.000000  0.000000   \n",
       "Sport_Model       1351.0  0.279793  0.449064  0.0  0.000000  0.000000   \n",
       "Backseat_Divider  1351.0  0.771281  0.420164  0.0  1.000000  1.000000   \n",
       "Metallic_Rim      1351.0  0.190970  0.393211  0.0  0.000000  0.000000   \n",
       "Tow_Bar           1351.0  0.292376  0.455023  0.0  0.000000  0.000000   \n",
       "CNG               1351.0  0.012583  0.111508  0.0  0.000000  0.000000   \n",
       "Diesel            1351.0  0.097705  0.297026  0.0  0.000000  0.000000   \n",
       "Petrol            1351.0  0.889711  0.313365  0.0  1.000000  1.000000   \n",
       "\n",
       "                       75%  max  \n",
       "Price             0.471910  1.0  \n",
       "Mfg_Year          0.333333  1.0  \n",
       "KM                0.365855  1.0  \n",
       "HP                0.872340  1.0  \n",
       "Met_Color         1.000000  1.0  \n",
       "cc                0.428571  1.0  \n",
       "Doors             1.000000  1.0  \n",
       "Quarterly_Tax     0.306977  1.0  \n",
       "Mfr_Guarantee     1.000000  1.0  \n",
       "Guarantee_Period  0.000000  1.0  \n",
       "ABS               1.000000  1.0  \n",
       "Airbag_1          1.000000  1.0  \n",
       "Airbag_2          1.000000  1.0  \n",
       "Airco             1.000000  1.0  \n",
       "Automatic_airco   0.000000  1.0  \n",
       "Boardcomputer     1.000000  1.0  \n",
       "CD_Player         0.000000  1.0  \n",
       "Central_Lock      1.000000  1.0  \n",
       "Powered_Windows   1.000000  1.0  \n",
       "Mistlamps         0.000000  1.0  \n",
       "Sport_Model       1.000000  1.0  \n",
       "Backseat_Divider  1.000000  1.0  \n",
       "Metallic_Rim      0.000000  1.0  \n",
       "Tow_Bar           1.000000  1.0  \n",
       "CNG               0.000000  1.0  \n",
       "Diesel            0.000000  1.0  \n",
       "Petrol            1.000000  1.0  "
      ]
     },
     "execution_count": 40,
     "metadata": {},
     "output_type": "execute_result"
    }
   ],
   "source": [
    "scaler=MinMaxScaler()\n",
    "norm_data=scaler.fit_transform(df_filtered)\n",
    "dataset=pd.DataFrame(norm_data,columns=df_test.columns.values)\n",
    "dataset.describe(include=\"all\").T"
   ]
  },
  {
   "cell_type": "markdown",
   "metadata": {},
   "source": [
    "<h3 style=\"color: lightgreen\">MODELO: RIDGE</h3>"
   ]
  },
  {
   "cell_type": "code",
   "execution_count": 41,
   "metadata": {},
   "outputs": [],
   "source": [
    "Y=df_filtered[[\"Price\"]]\n",
    "X=dataset[[\"Mfg_Year\",\"KM\",\"Quarterly_Tax\",\"Guarantee_Period\",\"Automatic_airco\",\"Airco\",\"Doors\",\"Mfr_Guarantee\"]]"
   ]
  },
  {
   "cell_type": "code",
   "execution_count": 42,
   "metadata": {},
   "outputs": [
    {
     "name": "stderr",
     "output_type": "stream",
     "text": [
      "C:\\Users\\USUARIO\\AppData\\Local\\Temp\\ipykernel_7428\\615492939.py:1: SettingWithCopyWarning: \n",
      "A value is trying to be set on a copy of a slice from a DataFrame.\n",
      "Try using .loc[row_indexer,col_indexer] = value instead\n",
      "\n",
      "See the caveats in the documentation: https://pandas.pydata.org/pandas-docs/stable/user_guide/indexing.html#returning-a-view-versus-a-copy\n",
      "  Y[\"Price\"]=np.log(Y[\"Price\"])\n"
     ]
    },
    {
     "data": {
      "text/plain": [
       "(array([ 10.,  38., 124., 226., 299., 297., 153.,  98.,  52.,  54.]),\n",
       " array([8.54675199, 8.6746294 , 8.8025068 , 8.9303842 , 9.0582616 ,\n",
       "        9.186139  , 9.3140164 , 9.44189381, 9.56977121, 9.69764861,\n",
       "        9.82552601]),\n",
       " <BarContainer object of 10 artists>)"
      ]
     },
     "execution_count": 42,
     "metadata": {},
     "output_type": "execute_result"
    },
    {
     "data": {
      "image/png": "[encoded data removed]",
      "text/plain": [
       "<Figure size 432x288 with 1 Axes>"
      ]
     },
     "metadata": {
      "needs_background": "light"
     },
     "output_type": "display_data"
    }
   ],
   "source": [
    "Y[\"Price\"]=np.log(Y[\"Price\"])\n",
    "plt.hist(Y[\"Price\"],bins=10)"
   ]
  },
  {
   "cell_type": "code",
   "execution_count": 43,
   "metadata": {},
   "outputs": [
    {
     "data": {
      "text/plain": [
       "((1351, 8), (1351, 1))"
      ]
     },
     "execution_count": 43,
     "metadata": {},
     "output_type": "execute_result"
    }
   ],
   "source": [
    "X.shape, Y.shape"
   ]
  },
  {
   "cell_type": "code",
   "execution_count": 44,
   "metadata": {},
   "outputs": [
    {
     "data": {
      "text/plain": [
       "1351"
      ]
     },
     "execution_count": 44,
     "metadata": {},
     "output_type": "execute_result"
    }
   ],
   "source": [
    "datasetsize=X.shape[0]\n",
    "datasetsize"
   ]
  },
  {
   "cell_type": "code",
   "execution_count": 45,
   "metadata": {},
   "outputs": [
    {
     "data": {
      "text/plain": [
       "5.919220055710307"
      ]
     },
     "execution_count": 45,
     "metadata": {},
     "output_type": "execute_result"
    }
   ],
   "source": [
    "percentRemoved=0\n",
    "\n",
    "percentRemoved= (csvToyota.shape[0]-datasetsize)/csvToyota.shape[0] * 100\n",
    "\n",
    "percentRemoved"
   ]
  },
  {
   "cell_type": "code",
   "execution_count": 46,
   "metadata": {},
   "outputs": [],
   "source": [
    "x_train, x_test, y_train, y_test= train_test_split(X,Y,test_size=0.3,random_state=42,shuffle=True)\n",
    "x_train=x_train.reset_index(drop=True)\n",
    "x_test=x_test.reset_index(drop=True)\n",
    "y_train=y_train.reset_index(drop=True)\n",
    "y_test=y_test.reset_index(drop=True)\n",
    "    \n",
    "\n",
    "model=sm.OLS(y_train,sm.add_constant(x_train))\n",
    "ml_results=model.fit()"
   ]
  },
  {
   "cell_type": "code",
   "execution_count": 47,
   "metadata": {},
   "outputs": [],
   "source": [
    "y_pred = ml_results.predict(sm.add_constant(x_test))"
   ]
  },
  {
   "cell_type": "code",
   "execution_count": 48,
   "metadata": {},
   "outputs": [
    {
     "name": "stdout",
     "output_type": "stream",
     "text": [
      "0      9.249922\n",
      "1      9.481132\n",
      "2      9.202866\n",
      "3      9.151052\n",
      "4      8.990217\n",
      "         ...   \n",
      "401    9.283709\n",
      "402    8.922323\n",
      "403    9.702456\n",
      "404    9.479622\n",
      "405    9.072074\n",
      "Length: 406, dtype: float64\n"
     ]
    }
   ],
   "source": [
    "print(y_pred.T)"
   ]
  },
  {
   "cell_type": "code",
   "execution_count": 49,
   "metadata": {},
   "outputs": [
    {
     "name": "stdout",
     "output_type": "stream",
     "text": [
      "Mean squared error: 0.010586502671881942\n"
     ]
    }
   ],
   "source": [
    "mse=mean_squared_error(y_test,y_pred)\n",
    "print(\"Mean squared error:\" ,mse)"
   ]
  },
  {
   "cell_type": "code",
   "execution_count": 50,
   "metadata": {},
   "outputs": [
    {
     "name": "stdout",
     "output_type": "stream",
     "text": [
      "Root mean squared error:  0.1028907317103049\n"
     ]
    }
   ],
   "source": [
    "print(\"Root mean squared error: \" ,math.sqrt(mse))"
   ]
  },
  {
   "cell_type": "code",
   "execution_count": 51,
   "metadata": {},
   "outputs": [
    {
     "name": "stdout",
     "output_type": "stream",
     "text": [
      "                            OLS Regression Results                            \n",
      "==============================================================================\n",
      "Dep. Variable:                  Price   R-squared:                       0.825\n",
      "Model:                            OLS   Adj. R-squared:                  0.824\n",
      "Method:                 Least Squares   F-statistic:                     552.6\n",
      "Date:                Tue, 25 Oct 2022   Prob (F-statistic):               0.00\n",
      "Time:                        12:03:30   Log-Likelihood:                 807.17\n",
      "No. Observations:                 945   AIC:                            -1596.\n",
      "Df Residuals:                     936   BIC:                            -1553.\n",
      "Df Model:                           8                                         \n",
      "Covariance Type:            nonrobust                                         \n",
      "====================================================================================\n",
      "                       coef    std err          t      P>|t|      [0.025      0.975]\n",
      "------------------------------------------------------------------------------------\n",
      "const                9.0141      0.013    705.973      0.000       8.989       9.039\n",
      "Mfg_Year             0.7002      0.019     36.426      0.000       0.662       0.738\n",
      "KM                  -0.4286      0.029    -14.748      0.000      -0.486      -0.372\n",
      "Quarterly_Tax        0.1560      0.022      7.189      0.000       0.113       0.199\n",
      "Guarantee_Period     0.1173      0.038      3.053      0.002       0.042       0.193\n",
      "Automatic_airco      0.1250      0.023      5.363      0.000       0.079       0.171\n",
      "Airco                0.0656      0.007      9.061      0.000       0.051       0.080\n",
      "Doors                0.0531      0.011      4.941      0.000       0.032       0.074\n",
      "Mfr_Guarantee        0.0408      0.007      5.727      0.000       0.027       0.055\n",
      "==============================================================================\n",
      "Omnibus:                       56.472   Durbin-Watson:                   2.211\n",
      "Prob(Omnibus):                  0.000   Jarque-Bera (JB):              140.306\n",
      "Skew:                          -0.315   Prob(JB):                     3.41e-31\n",
      "Kurtosis:                       4.780   Cond. No.                         17.2\n",
      "==============================================================================\n",
      "\n",
      "Notes:\n",
      "[1] Standard Errors assume that the covariance matrix of the errors is correctly specified.\n"
     ]
    }
   ],
   "source": [
    "summary=ml_results.summary()\n",
    "print(summary)"
   ]
  },
  {
   "cell_type": "code",
   "execution_count": 52,
   "metadata": {},
   "outputs": [],
   "source": [
    "# Valores Ajustados\n",
    "fitted_values = ml_results.fittedvalues\n",
    "\n",
    "# Valores residuales\n",
    "residuals = ml_results.resid\n",
    "\n",
    "#residuales estandarizados\n",
    "lm_resid_stand = ml_results.get_influence().resid_studentized_internal\n",
    "\n",
    "#raiz de los residuales normalizados absolutos\n",
    "lm_resid_norm_abs_sqrt = np.sqrt(np.abs(lm_resid_stand))\n",
    "\n",
    "#residuales absolutos\n",
    "lm_resid_abs = np.abs(residuals)"
   ]
  },
  {
   "cell_type": "code",
   "execution_count": 53,
   "metadata": {},
   "outputs": [
    {
     "data": {
      "image/png": "[encoded data removed]",
      "text/plain": [
       "<Figure size 432x288 with 1 Axes>"
      ]
     },
     "metadata": {
      "needs_background": "light"
     },
     "output_type": "display_data"
    }
   ],
   "source": [
    "# Residuales\n",
    "plt.hist(ml_results.resid)\n",
    "plt.show()"
   ]
  },
  {
   "cell_type": "code",
   "execution_count": 54,
   "metadata": {},
   "outputs": [
    {
     "data": {
      "image/png": "[encoded data removed]",
      "text/plain": [
       "<Figure size 432x288 with 1 Axes>"
      ]
     },
     "metadata": {
      "needs_background": "light"
     },
     "output_type": "display_data"
    }
   ],
   "source": [
    "fig = sm.qqplot(lm_resid_stand,line='45')\n",
    "plt.show()"
   ]
  },
  {
   "cell_type": "code",
   "execution_count": 55,
   "metadata": {},
   "outputs": [
    {
     "data": {
      "text/plain": [
       "Text(0, 0.5, 'Residuals')"
      ]
     },
     "execution_count": 55,
     "metadata": {},
     "output_type": "execute_result"
    },
    {
     "data": {
      "image/png": "[encoded data removed]",
      "text/plain": [
       "<Figure size 432x288 with 1 Axes>"
      ]
     },
     "metadata": {
      "needs_background": "light"
     },
     "output_type": "display_data"
    }
   ],
   "source": [
    "plot = sns.residplot(x=fitted_values, y=residuals, lowess=True,\n",
    "                     scatter_kws={'alpha': 0.5},\n",
    "                     line_kws={'color': 'red', 'lw': 2, 'alpha': 0.8})\n",
    "\n",
    "# Titel and labels\n",
    "plot.set_title('Residuals vs Fitted')\n",
    "plot.set_xlabel('Fitted values')\n",
    "plot.set_ylabel('Residuals')\n",
    "\n"
   ]
  },
  {
   "cell_type": "markdown",
   "metadata": {},
   "source": [
    "<h1 style=\"color: violet\">VALIDACION CON X-VALIDATION</h1>"
   ]
  },
  {
   "cell_type": "code",
   "execution_count": 56,
   "metadata": {},
   "outputs": [],
   "source": [
    "Y=df_filtered[[\"Price\"]]\n",
    "X=dataset[[\"Mfg_Year\",\"KM\",\"Quarterly_Tax\",\"Guarantee_Period\",\"Automatic_airco\",\"Airco\",\"Doors\",\"Mfr_Guarantee\"]]"
   ]
  },
  {
   "cell_type": "code",
   "execution_count": 57,
   "metadata": {},
   "outputs": [
    {
     "name": "stderr",
     "output_type": "stream",
     "text": [
      "C:\\Users\\USUARIO\\AppData\\Local\\Temp\\ipykernel_7428\\3880681737.py:1: SettingWithCopyWarning: \n",
      "A value is trying to be set on a copy of a slice from a DataFrame.\n",
      "Try using .loc[row_indexer,col_indexer] = value instead\n",
      "\n",
      "See the caveats in the documentation: https://pandas.pydata.org/pandas-docs/stable/user_guide/indexing.html#returning-a-view-versus-a-copy\n",
      "  Y[\"Price\"]=np.log(Y[\"Price\"])\n"
     ]
    }
   ],
   "source": [
    "Y[\"Price\"]=np.log(Y[\"Price\"])"
   ]
  },
  {
   "cell_type": "code",
   "execution_count": 58,
   "metadata": {},
   "outputs": [
    {
     "data": {
      "text/plain": [
       "['accuracy',\n",
       " 'adjusted_mutual_info_score',\n",
       " 'adjusted_rand_score',\n",
       " 'average_precision',\n",
       " 'balanced_accuracy',\n",
       " 'completeness_score',\n",
       " 'explained_variance',\n",
       " 'f1',\n",
       " 'f1_macro',\n",
       " 'f1_micro',\n",
       " 'f1_samples',\n",
       " 'f1_weighted',\n",
       " 'fowlkes_mallows_score',\n",
       " 'homogeneity_score',\n",
       " 'jaccard',\n",
       " 'jaccard_macro',\n",
       " 'jaccard_micro',\n",
       " 'jaccard_samples',\n",
       " 'jaccard_weighted',\n",
       " 'matthews_corrcoef',\n",
       " 'max_error',\n",
       " 'mutual_info_score',\n",
       " 'neg_brier_score',\n",
       " 'neg_log_loss',\n",
       " 'neg_mean_absolute_error',\n",
       " 'neg_mean_absolute_percentage_error',\n",
       " 'neg_mean_gamma_deviance',\n",
       " 'neg_mean_poisson_deviance',\n",
       " 'neg_mean_squared_error',\n",
       " 'neg_mean_squared_log_error',\n",
       " 'neg_median_absolute_error',\n",
       " 'neg_root_mean_squared_error',\n",
       " 'normalized_mutual_info_score',\n",
       " 'precision',\n",
       " 'precision_macro',\n",
       " 'precision_micro',\n",
       " 'precision_samples',\n",
       " 'precision_weighted',\n",
       " 'r2',\n",
       " 'rand_score',\n",
       " 'recall',\n",
       " 'recall_macro',\n",
       " 'recall_micro',\n",
       " 'recall_samples',\n",
       " 'recall_weighted',\n",
       " 'roc_auc',\n",
       " 'roc_auc_ovo',\n",
       " 'roc_auc_ovo_weighted',\n",
       " 'roc_auc_ovr',\n",
       " 'roc_auc_ovr_weighted',\n",
       " 'top_k_accuracy',\n",
       " 'v_measure_score']"
      ]
     },
     "execution_count": 58,
     "metadata": {},
     "output_type": "execute_result"
    }
   ],
   "source": [
    "from sklearn.metrics import get_scorer_names\n",
    "\n",
    "get_scorer_names()"
   ]
  },
  {
   "cell_type": "code",
   "execution_count": 59,
   "metadata": {},
   "outputs": [],
   "source": [
    "kfold_param = {\n",
    "    'n_splits':10,\n",
    "    'shuffle':True,\n",
    "    'random_state':42\n",
    "}\n",
    "\n",
    "kfold = KFold(**kfold_param)\n",
    "\n",
    "clf_dt = LinearRegression()\n",
    "\n",
    "score = cross_val_score(clf_dt, X, Y,cv=kfold, n_jobs=-1,scoring=\"neg_mean_squared_error\")"
   ]
  },
  {
   "cell_type": "code",
   "execution_count": 60,
   "metadata": {},
   "outputs": [
    {
     "name": "stdout",
     "output_type": "stream",
     "text": [
      "[-0.00956207 -0.01130283 -0.01065286 -0.01193912 -0.01081364 -0.0101154\n",
      " -0.00942402 -0.01146191 -0.01030062 -0.011595  ]\n"
     ]
    }
   ],
   "source": [
    "print(score)"
   ]
  },
  {
   "cell_type": "code",
   "execution_count": 61,
   "metadata": {},
   "outputs": [
    {
     "data": {
      "text/plain": [
       "0.010716745801346208"
      ]
     },
     "execution_count": 61,
     "metadata": {},
     "output_type": "execute_result"
    }
   ],
   "source": [
    "np.mean(abs(score))"
   ]
  },
  {
   "cell_type": "code",
   "execution_count": 62,
   "metadata": {},
   "outputs": [
    {
     "data": {
      "text/plain": [
       "0.10352171656877704"
      ]
     },
     "execution_count": 62,
     "metadata": {},
     "output_type": "execute_result"
    }
   ],
   "source": [
    "math.sqrt(np.mean(abs(score)))"
   ]
  },
  {
   "cell_type": "markdown",
   "metadata": {},
   "source": [
    "<h1>GUARDAR EXPERIMENTO</h1>"
   ]
  },
  {
   "cell_type": "code",
   "execution_count": 63,
   "metadata": {},
   "outputs": [],
   "source": [
    "from math import sqrt\n",
    "\n",
    "dict_values = {\n",
    "    'mse': mse,\n",
    "    'r2_adj': ml_results.rsquared_adj,\n",
    "    'rmse':sqrt(mse),\n",
    "    'PriceValueTruncDown' : outlierValuePriceDown,\n",
    "    'PriceValueTruncUp': outlierValuePriceUp\n",
    "}\n",
    "\n",
    "mlflow.set_tag('DatasetSize', datasetsize)\n",
    "mlflow.set_tag('PercentageDataRemoved',percentRemoved)\n",
    "mlflow.set_tag('Summary',summary)\n",
    "\n",
    "\n",
    "mlflow.log_metrics(dict_values)"
   ]
  },
  {
   "cell_type": "markdown",
   "metadata": {},
   "source": [
    "FINALIZAR EXPERIMENTO"
   ]
  },
  {
   "cell_type": "code",
   "execution_count": 64,
   "metadata": {},
   "outputs": [],
   "source": [
    "mlflow.end_run()"
   ]
  }
 ],
 "metadata": {
  "kernelspec": {
   "display_name": "Python 3.10.4 ('datamining')",
   "language": "python",
   "name": "python3"
  },
  "language_info": {
   "codemirror_mode": {
    "name": "ipython",
    "version": 3
   },
   "file_extension": ".py",
   "mimetype": "text/x-python",
   "name": "python",
   "nbconvert_exporter": "python",
   "pygments_lexer": "ipython3",
   "version": "3.10.4"
  },
  "orig_nbformat": 4,
  "vscode": {
   "interpreter": {
    "hash": "dd2c738cbc489a7192be84f527e2f9954c1c57bb6ac440df68d1356060f24e3c"
   }
  }
 },
 "nbformat": 4,
 "nbformat_minor": 2
}
