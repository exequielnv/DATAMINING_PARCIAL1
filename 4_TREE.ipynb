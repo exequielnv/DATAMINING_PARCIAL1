{
 "cells": [
  {
   "cell_type": "markdown",
   "metadata": {},
   "source": [
    "PRIMER PARCIAL"
   ]
  },
  {
   "cell_type": "code",
   "execution_count": 1,
   "metadata": {},
   "outputs": [],
   "source": [
    "import pandas as pd\n",
    "import matplotlib.pyplot as plt\n",
    "from sklearn.preprocessing import StandardScaler, MinMaxScaler\n",
    "import numpy as np\n",
    "from sklearn.feature_selection import SelectKBest, f_regression\n",
    "import statsmodels.api as sm\n",
    "import seaborn as sns\n",
    "from sklearn.model_selection import train_test_split\n",
    "from sklearn.metrics import mean_squared_error\n",
    "from sklearn.linear_model import LinearRegression,Ridge,Lasso\n",
    "from sklearn.model_selection import KFold, cross_val_score, GridSearchCV\n",
    "import math\n",
    "import mlflow\n",
    "\n",
    "from sklearn.model_selection import KFold, cross_val_score, GridSearchCV\n",
    "from sklearn.tree import DecisionTreeClassifier, plot_tree, DecisionTreeRegressor\n",
    "from sklearn.metrics import classification_report, confusion_matrix, ConfusionMatrixDisplay, plot_confusion_matrix"
   ]
  },
  {
   "cell_type": "code",
   "execution_count": 2,
   "metadata": {},
   "outputs": [],
   "source": [
    "csvToyota= pd.read_csv(\"ToyotaCorolla_modificado.csv\")\n"
   ]
  },
  {
   "cell_type": "code",
   "execution_count": 3,
   "metadata": {},
   "outputs": [
    {
     "data": {
      "text/html": [
       "<div>\n",
       "<style scoped>\n",
       "    .dataframe tbody tr th:only-of-type {\n",
       "        vertical-align: middle;\n",
       "    }\n",
       "\n",
       "    .dataframe tbody tr th {\n",
       "        vertical-align: top;\n",
       "    }\n",
       "\n",
       "    .dataframe thead th {\n",
       "        text-align: right;\n",
       "    }\n",
       "</style>\n",
       "<table border=\"1\" class=\"dataframe\">\n",
       "  <thead>\n",
       "    <tr style=\"text-align: right;\">\n",
       "      <th></th>\n",
       "      <th>count</th>\n",
       "      <th>unique</th>\n",
       "      <th>top</th>\n",
       "      <th>freq</th>\n",
       "      <th>mean</th>\n",
       "      <th>std</th>\n",
       "      <th>min</th>\n",
       "      <th>25%</th>\n",
       "      <th>50%</th>\n",
       "      <th>75%</th>\n",
       "      <th>max</th>\n",
       "    </tr>\n",
       "  </thead>\n",
       "  <tbody>\n",
       "    <tr>\n",
       "      <th>Price</th>\n",
       "      <td>1436.0</td>\n",
       "      <td>NaN</td>\n",
       "      <td>NaN</td>\n",
       "      <td>NaN</td>\n",
       "      <td>10730.824513</td>\n",
       "      <td>3626.964585</td>\n",
       "      <td>4350.0</td>\n",
       "      <td>8450.0</td>\n",
       "      <td>9900.0</td>\n",
       "      <td>11950.0</td>\n",
       "      <td>32500.0</td>\n",
       "    </tr>\n",
       "    <tr>\n",
       "      <th>Mfg_Year</th>\n",
       "      <td>1436.0</td>\n",
       "      <td>NaN</td>\n",
       "      <td>NaN</td>\n",
       "      <td>NaN</td>\n",
       "      <td>1999.625348</td>\n",
       "      <td>1.540722</td>\n",
       "      <td>1998.0</td>\n",
       "      <td>1998.0</td>\n",
       "      <td>1999.0</td>\n",
       "      <td>2001.0</td>\n",
       "      <td>2004.0</td>\n",
       "    </tr>\n",
       "    <tr>\n",
       "      <th>KM</th>\n",
       "      <td>1436.0</td>\n",
       "      <td>NaN</td>\n",
       "      <td>NaN</td>\n",
       "      <td>NaN</td>\n",
       "      <td>68533.259749</td>\n",
       "      <td>37506.448872</td>\n",
       "      <td>1.0</td>\n",
       "      <td>43000.0</td>\n",
       "      <td>63389.5</td>\n",
       "      <td>87020.75</td>\n",
       "      <td>243000.0</td>\n",
       "    </tr>\n",
       "    <tr>\n",
       "      <th>Fuel_Type</th>\n",
       "      <td>1436</td>\n",
       "      <td>3</td>\n",
       "      <td>Petrol</td>\n",
       "      <td>1264</td>\n",
       "      <td>NaN</td>\n",
       "      <td>NaN</td>\n",
       "      <td>NaN</td>\n",
       "      <td>NaN</td>\n",
       "      <td>NaN</td>\n",
       "      <td>NaN</td>\n",
       "      <td>NaN</td>\n",
       "    </tr>\n",
       "    <tr>\n",
       "      <th>HP</th>\n",
       "      <td>1436.0</td>\n",
       "      <td>NaN</td>\n",
       "      <td>NaN</td>\n",
       "      <td>NaN</td>\n",
       "      <td>101.502089</td>\n",
       "      <td>14.98108</td>\n",
       "      <td>69.0</td>\n",
       "      <td>90.0</td>\n",
       "      <td>110.0</td>\n",
       "      <td>110.0</td>\n",
       "      <td>192.0</td>\n",
       "    </tr>\n",
       "    <tr>\n",
       "      <th>Met_Color</th>\n",
       "      <td>1436.0</td>\n",
       "      <td>NaN</td>\n",
       "      <td>NaN</td>\n",
       "      <td>NaN</td>\n",
       "      <td>0.674791</td>\n",
       "      <td>0.468616</td>\n",
       "      <td>0.0</td>\n",
       "      <td>0.0</td>\n",
       "      <td>1.0</td>\n",
       "      <td>1.0</td>\n",
       "      <td>1.0</td>\n",
       "    </tr>\n",
       "    <tr>\n",
       "      <th>cc</th>\n",
       "      <td>1436.0</td>\n",
       "      <td>NaN</td>\n",
       "      <td>NaN</td>\n",
       "      <td>NaN</td>\n",
       "      <td>1576.85585</td>\n",
       "      <td>424.38677</td>\n",
       "      <td>1300.0</td>\n",
       "      <td>1400.0</td>\n",
       "      <td>1600.0</td>\n",
       "      <td>1600.0</td>\n",
       "      <td>16000.0</td>\n",
       "    </tr>\n",
       "    <tr>\n",
       "      <th>Doors</th>\n",
       "      <td>1436.0</td>\n",
       "      <td>NaN</td>\n",
       "      <td>NaN</td>\n",
       "      <td>NaN</td>\n",
       "      <td>4.033426</td>\n",
       "      <td>0.952677</td>\n",
       "      <td>2.0</td>\n",
       "      <td>3.0</td>\n",
       "      <td>4.0</td>\n",
       "      <td>5.0</td>\n",
       "      <td>5.0</td>\n",
       "    </tr>\n",
       "    <tr>\n",
       "      <th>Quarterly_Tax</th>\n",
       "      <td>1436.0</td>\n",
       "      <td>NaN</td>\n",
       "      <td>NaN</td>\n",
       "      <td>NaN</td>\n",
       "      <td>87.122563</td>\n",
       "      <td>41.128611</td>\n",
       "      <td>19.0</td>\n",
       "      <td>69.0</td>\n",
       "      <td>85.0</td>\n",
       "      <td>85.0</td>\n",
       "      <td>283.0</td>\n",
       "    </tr>\n",
       "    <tr>\n",
       "      <th>Mfr_Guarantee</th>\n",
       "      <td>1436.0</td>\n",
       "      <td>NaN</td>\n",
       "      <td>NaN</td>\n",
       "      <td>NaN</td>\n",
       "      <td>0.409471</td>\n",
       "      <td>0.491907</td>\n",
       "      <td>0.0</td>\n",
       "      <td>0.0</td>\n",
       "      <td>0.0</td>\n",
       "      <td>1.0</td>\n",
       "      <td>1.0</td>\n",
       "    </tr>\n",
       "    <tr>\n",
       "      <th>Guarantee_Period</th>\n",
       "      <td>1436.0</td>\n",
       "      <td>NaN</td>\n",
       "      <td>NaN</td>\n",
       "      <td>NaN</td>\n",
       "      <td>3.81546</td>\n",
       "      <td>3.011025</td>\n",
       "      <td>3.0</td>\n",
       "      <td>3.0</td>\n",
       "      <td>3.0</td>\n",
       "      <td>3.0</td>\n",
       "      <td>36.0</td>\n",
       "    </tr>\n",
       "    <tr>\n",
       "      <th>ABS</th>\n",
       "      <td>1436.0</td>\n",
       "      <td>NaN</td>\n",
       "      <td>NaN</td>\n",
       "      <td>NaN</td>\n",
       "      <td>0.81337</td>\n",
       "      <td>0.38975</td>\n",
       "      <td>0.0</td>\n",
       "      <td>1.0</td>\n",
       "      <td>1.0</td>\n",
       "      <td>1.0</td>\n",
       "      <td>1.0</td>\n",
       "    </tr>\n",
       "    <tr>\n",
       "      <th>Airbag_1</th>\n",
       "      <td>1436.0</td>\n",
       "      <td>NaN</td>\n",
       "      <td>NaN</td>\n",
       "      <td>NaN</td>\n",
       "      <td>0.970752</td>\n",
       "      <td>0.168559</td>\n",
       "      <td>0.0</td>\n",
       "      <td>1.0</td>\n",
       "      <td>1.0</td>\n",
       "      <td>1.0</td>\n",
       "      <td>1.0</td>\n",
       "    </tr>\n",
       "    <tr>\n",
       "      <th>Airbag_2</th>\n",
       "      <td>1436.0</td>\n",
       "      <td>NaN</td>\n",
       "      <td>NaN</td>\n",
       "      <td>NaN</td>\n",
       "      <td>0.722841</td>\n",
       "      <td>0.447751</td>\n",
       "      <td>0.0</td>\n",
       "      <td>0.0</td>\n",
       "      <td>1.0</td>\n",
       "      <td>1.0</td>\n",
       "      <td>1.0</td>\n",
       "    </tr>\n",
       "    <tr>\n",
       "      <th>Airco</th>\n",
       "      <td>1436.0</td>\n",
       "      <td>NaN</td>\n",
       "      <td>NaN</td>\n",
       "      <td>NaN</td>\n",
       "      <td>0.508357</td>\n",
       "      <td>0.500104</td>\n",
       "      <td>0.0</td>\n",
       "      <td>0.0</td>\n",
       "      <td>1.0</td>\n",
       "      <td>1.0</td>\n",
       "      <td>1.0</td>\n",
       "    </tr>\n",
       "    <tr>\n",
       "      <th>Automatic_airco</th>\n",
       "      <td>1436.0</td>\n",
       "      <td>NaN</td>\n",
       "      <td>NaN</td>\n",
       "      <td>NaN</td>\n",
       "      <td>0.056407</td>\n",
       "      <td>0.230786</td>\n",
       "      <td>0.0</td>\n",
       "      <td>0.0</td>\n",
       "      <td>0.0</td>\n",
       "      <td>0.0</td>\n",
       "      <td>1.0</td>\n",
       "    </tr>\n",
       "    <tr>\n",
       "      <th>Boardcomputer</th>\n",
       "      <td>1436.0</td>\n",
       "      <td>NaN</td>\n",
       "      <td>NaN</td>\n",
       "      <td>NaN</td>\n",
       "      <td>0.294568</td>\n",
       "      <td>0.456007</td>\n",
       "      <td>0.0</td>\n",
       "      <td>0.0</td>\n",
       "      <td>0.0</td>\n",
       "      <td>1.0</td>\n",
       "      <td>1.0</td>\n",
       "    </tr>\n",
       "    <tr>\n",
       "      <th>CD_Player</th>\n",
       "      <td>1436.0</td>\n",
       "      <td>NaN</td>\n",
       "      <td>NaN</td>\n",
       "      <td>NaN</td>\n",
       "      <td>0.218663</td>\n",
       "      <td>0.413483</td>\n",
       "      <td>0.0</td>\n",
       "      <td>0.0</td>\n",
       "      <td>0.0</td>\n",
       "      <td>0.0</td>\n",
       "      <td>1.0</td>\n",
       "    </tr>\n",
       "    <tr>\n",
       "      <th>Central_Lock</th>\n",
       "      <td>1436.0</td>\n",
       "      <td>NaN</td>\n",
       "      <td>NaN</td>\n",
       "      <td>NaN</td>\n",
       "      <td>0.580084</td>\n",
       "      <td>0.493717</td>\n",
       "      <td>0.0</td>\n",
       "      <td>0.0</td>\n",
       "      <td>1.0</td>\n",
       "      <td>1.0</td>\n",
       "      <td>1.0</td>\n",
       "    </tr>\n",
       "    <tr>\n",
       "      <th>Powered_Windows</th>\n",
       "      <td>1436.0</td>\n",
       "      <td>NaN</td>\n",
       "      <td>NaN</td>\n",
       "      <td>NaN</td>\n",
       "      <td>0.561978</td>\n",
       "      <td>0.496317</td>\n",
       "      <td>0.0</td>\n",
       "      <td>0.0</td>\n",
       "      <td>1.0</td>\n",
       "      <td>1.0</td>\n",
       "      <td>1.0</td>\n",
       "    </tr>\n",
       "    <tr>\n",
       "      <th>Mistlamps</th>\n",
       "      <td>1436.0</td>\n",
       "      <td>NaN</td>\n",
       "      <td>NaN</td>\n",
       "      <td>NaN</td>\n",
       "      <td>0.256964</td>\n",
       "      <td>0.437111</td>\n",
       "      <td>0.0</td>\n",
       "      <td>0.0</td>\n",
       "      <td>0.0</td>\n",
       "      <td>1.0</td>\n",
       "      <td>1.0</td>\n",
       "    </tr>\n",
       "    <tr>\n",
       "      <th>Sport_Model</th>\n",
       "      <td>1436.0</td>\n",
       "      <td>NaN</td>\n",
       "      <td>NaN</td>\n",
       "      <td>NaN</td>\n",
       "      <td>0.300139</td>\n",
       "      <td>0.458478</td>\n",
       "      <td>0.0</td>\n",
       "      <td>0.0</td>\n",
       "      <td>0.0</td>\n",
       "      <td>1.0</td>\n",
       "      <td>1.0</td>\n",
       "    </tr>\n",
       "    <tr>\n",
       "      <th>Backseat_Divider</th>\n",
       "      <td>1436.0</td>\n",
       "      <td>NaN</td>\n",
       "      <td>NaN</td>\n",
       "      <td>NaN</td>\n",
       "      <td>0.770195</td>\n",
       "      <td>0.420854</td>\n",
       "      <td>0.0</td>\n",
       "      <td>1.0</td>\n",
       "      <td>1.0</td>\n",
       "      <td>1.0</td>\n",
       "      <td>1.0</td>\n",
       "    </tr>\n",
       "    <tr>\n",
       "      <th>Metallic_Rim</th>\n",
       "      <td>1436.0</td>\n",
       "      <td>NaN</td>\n",
       "      <td>NaN</td>\n",
       "      <td>NaN</td>\n",
       "      <td>0.204735</td>\n",
       "      <td>0.403649</td>\n",
       "      <td>0.0</td>\n",
       "      <td>0.0</td>\n",
       "      <td>0.0</td>\n",
       "      <td>0.0</td>\n",
       "      <td>1.0</td>\n",
       "    </tr>\n",
       "    <tr>\n",
       "      <th>Tow_Bar</th>\n",
       "      <td>1436.0</td>\n",
       "      <td>NaN</td>\n",
       "      <td>NaN</td>\n",
       "      <td>NaN</td>\n",
       "      <td>0.277855</td>\n",
       "      <td>0.448098</td>\n",
       "      <td>0.0</td>\n",
       "      <td>0.0</td>\n",
       "      <td>0.0</td>\n",
       "      <td>1.0</td>\n",
       "      <td>1.0</td>\n",
       "    </tr>\n",
       "  </tbody>\n",
       "</table>\n",
       "</div>"
      ],
      "text/plain": [
       "                   count unique     top  freq          mean           std  \\\n",
       "Price             1436.0    NaN     NaN   NaN  10730.824513   3626.964585   \n",
       "Mfg_Year          1436.0    NaN     NaN   NaN   1999.625348      1.540722   \n",
       "KM                1436.0    NaN     NaN   NaN  68533.259749  37506.448872   \n",
       "Fuel_Type           1436      3  Petrol  1264           NaN           NaN   \n",
       "HP                1436.0    NaN     NaN   NaN    101.502089      14.98108   \n",
       "Met_Color         1436.0    NaN     NaN   NaN      0.674791      0.468616   \n",
       "cc                1436.0    NaN     NaN   NaN    1576.85585     424.38677   \n",
       "Doors             1436.0    NaN     NaN   NaN      4.033426      0.952677   \n",
       "Quarterly_Tax     1436.0    NaN     NaN   NaN     87.122563     41.128611   \n",
       "Mfr_Guarantee     1436.0    NaN     NaN   NaN      0.409471      0.491907   \n",
       "Guarantee_Period  1436.0    NaN     NaN   NaN       3.81546      3.011025   \n",
       "ABS               1436.0    NaN     NaN   NaN       0.81337       0.38975   \n",
       "Airbag_1          1436.0    NaN     NaN   NaN      0.970752      0.168559   \n",
       "Airbag_2          1436.0    NaN     NaN   NaN      0.722841      0.447751   \n",
       "Airco             1436.0    NaN     NaN   NaN      0.508357      0.500104   \n",
       "Automatic_airco   1436.0    NaN     NaN   NaN      0.056407      0.230786   \n",
       "Boardcomputer     1436.0    NaN     NaN   NaN      0.294568      0.456007   \n",
       "CD_Player         1436.0    NaN     NaN   NaN      0.218663      0.413483   \n",
       "Central_Lock      1436.0    NaN     NaN   NaN      0.580084      0.493717   \n",
       "Powered_Windows   1436.0    NaN     NaN   NaN      0.561978      0.496317   \n",
       "Mistlamps         1436.0    NaN     NaN   NaN      0.256964      0.437111   \n",
       "Sport_Model       1436.0    NaN     NaN   NaN      0.300139      0.458478   \n",
       "Backseat_Divider  1436.0    NaN     NaN   NaN      0.770195      0.420854   \n",
       "Metallic_Rim      1436.0    NaN     NaN   NaN      0.204735      0.403649   \n",
       "Tow_Bar           1436.0    NaN     NaN   NaN      0.277855      0.448098   \n",
       "\n",
       "                     min      25%      50%       75%       max  \n",
       "Price             4350.0   8450.0   9900.0   11950.0   32500.0  \n",
       "Mfg_Year          1998.0   1998.0   1999.0    2001.0    2004.0  \n",
       "KM                   1.0  43000.0  63389.5  87020.75  243000.0  \n",
       "Fuel_Type            NaN      NaN      NaN       NaN       NaN  \n",
       "HP                  69.0     90.0    110.0     110.0     192.0  \n",
       "Met_Color            0.0      0.0      1.0       1.0       1.0  \n",
       "cc                1300.0   1400.0   1600.0    1600.0   16000.0  \n",
       "Doors                2.0      3.0      4.0       5.0       5.0  \n",
       "Quarterly_Tax       19.0     69.0     85.0      85.0     283.0  \n",
       "Mfr_Guarantee        0.0      0.0      0.0       1.0       1.0  \n",
       "Guarantee_Period     3.0      3.0      3.0       3.0      36.0  \n",
       "ABS                  0.0      1.0      1.0       1.0       1.0  \n",
       "Airbag_1             0.0      1.0      1.0       1.0       1.0  \n",
       "Airbag_2             0.0      0.0      1.0       1.0       1.0  \n",
       "Airco                0.0      0.0      1.0       1.0       1.0  \n",
       "Automatic_airco      0.0      0.0      0.0       0.0       1.0  \n",
       "Boardcomputer        0.0      0.0      0.0       1.0       1.0  \n",
       "CD_Player            0.0      0.0      0.0       0.0       1.0  \n",
       "Central_Lock         0.0      0.0      1.0       1.0       1.0  \n",
       "Powered_Windows      0.0      0.0      1.0       1.0       1.0  \n",
       "Mistlamps            0.0      0.0      0.0       1.0       1.0  \n",
       "Sport_Model          0.0      0.0      0.0       1.0       1.0  \n",
       "Backseat_Divider     0.0      1.0      1.0       1.0       1.0  \n",
       "Metallic_Rim         0.0      0.0      0.0       0.0       1.0  \n",
       "Tow_Bar              0.0      0.0      0.0       1.0       1.0  "
      ]
     },
     "execution_count": 3,
     "metadata": {},
     "output_type": "execute_result"
    }
   ],
   "source": [
    "columns_to_delete=[\"Id\",\"Model\",\"Age_08_04\",\"Cylinders\",\"Weight\",\"Radio_cassette\",\"Power_Steering\",\"Gears\",\"Automatic\",\"Radio\",\n",
    "                   \"Power_Steering\",\"BOVAG_Guarantee\",\"Mfg_Month\"]\n",
    "\n",
    "df_test=csvToyota.drop(columns=columns_to_delete)\n",
    "df_test.describe(include=\"all\").T"
   ]
  },
  {
   "cell_type": "code",
   "execution_count": 4,
   "metadata": {},
   "outputs": [],
   "source": [
    "outlierValuePriceDown=5000\n",
    "outlierValuePriceUp=18500\n",
    "df_filtered=df_test[(df_test[\"Price\"]>outlierValuePriceDown)&(df_test[\"Price\"]<=outlierValuePriceUp)]"
   ]
  },
  {
   "cell_type": "markdown",
   "metadata": {},
   "source": [
    "<h1>CREAR EXPERIMENTO</h1>"
   ]
  },
  {
   "cell_type": "code",
   "execution_count": 5,
   "metadata": {},
   "outputs": [
    {
     "data": {
      "text/plain": [
       "<Experiment: artifact_location='file:///C:/Users/USUARIO/Desktop/ISI/5to%20a%C3%B1o/Inteligencia%20Empresarial%20y%20Datamining/Actividades/Actividad%205%20-%2010-10-2022/mlruns/8', creation_time=1666713899151, experiment_id='8', last_update_time=1666713899151, lifecycle_stage='active', name='tree', tags={}>"
      ]
     },
     "execution_count": 5,
     "metadata": {},
     "output_type": "execute_result"
    }
   ],
   "source": [
    "experiment_name = 'tree'\n",
    "\n",
    "dict_values = {\n",
    "    'deep':0,\n",
    "    'train_score':0,\n",
    "    'test_score':0,\n",
    "    'total_score': 0,\n",
    "    'rmse':0,\n",
    "    'mse':0\n",
    "}\n",
    "\n",
    "\n",
    "def load_create_experiment():\n",
    "    if mlflow.get_experiment_by_name(experiment_name):\n",
    "        return mlflow.get_experiment_by_name(experiment_name)\n",
    "    return mlflow.create_experiment(experiment_name)\n",
    "    \n",
    "current_experiment = load_create_experiment()\n",
    "mlflow.set_experiment(experiment_name)"
   ]
  },
  {
   "cell_type": "code",
   "execution_count": 6,
   "metadata": {},
   "outputs": [
    {
     "data": {
      "text/plain": [
       "<ActiveRun: >"
      ]
     },
     "execution_count": 6,
     "metadata": {},
     "output_type": "execute_result"
    }
   ],
   "source": [
    "#mlflow.start_run()"
   ]
  },
  {
   "cell_type": "markdown",
   "metadata": {},
   "source": [
    "<h3 style=\"color: lightgreen\">MODELO: TREE</h3>"
   ]
  },
  {
   "cell_type": "code",
   "execution_count": 35,
   "metadata": {},
   "outputs": [],
   "source": [
    "Y=df_filtered[[\"Price\"]]\n",
    "X=df_filtered.drop(columns=[\"Price\"])"
   ]
  },
  {
   "cell_type": "code",
   "execution_count": 36,
   "metadata": {},
   "outputs": [
    {
     "name": "stderr",
     "output_type": "stream",
     "text": [
      "C:\\Users\\USUARIO\\AppData\\Local\\Temp\\ipykernel_13376\\615492939.py:1: SettingWithCopyWarning: \n",
      "A value is trying to be set on a copy of a slice from a DataFrame.\n",
      "Try using .loc[row_indexer,col_indexer] = value instead\n",
      "\n",
      "See the caveats in the documentation: https://pandas.pydata.org/pandas-docs/stable/user_guide/indexing.html#returning-a-view-versus-a-copy\n",
      "  Y[\"Price\"]=np.log(Y[\"Price\"])\n"
     ]
    },
    {
     "data": {
      "text/plain": [
       "(array([ 10.,  38., 124., 226., 299., 297., 153.,  98.,  52.,  54.]),\n",
       " array([8.54675199, 8.6746294 , 8.8025068 , 8.9303842 , 9.0582616 ,\n",
       "        9.186139  , 9.3140164 , 9.44189381, 9.56977121, 9.69764861,\n",
       "        9.82552601]),\n",
       " <BarContainer object of 10 artists>)"
      ]
     },
     "execution_count": 36,
     "metadata": {},
     "output_type": "execute_result"
    },
    {
     "data": {
      "image/png": "[encoded data removed]",
      "text/plain": [
       "<Figure size 432x288 with 1 Axes>"
      ]
     },
     "metadata": {
      "needs_background": "light"
     },
     "output_type": "display_data"
    }
   ],
   "source": [
    "Y[\"Price\"]=np.log(Y[\"Price\"])\n",
    "plt.hist(Y[\"Price\"],bins=10)"
   ]
  },
  {
   "cell_type": "code",
   "execution_count": 37,
   "metadata": {},
   "outputs": [
    {
     "data": {
      "text/plain": [
       "((1351, 26), (1351, 1))"
      ]
     },
     "execution_count": 37,
     "metadata": {},
     "output_type": "execute_result"
    }
   ],
   "source": [
    "X.shape, Y.shape"
   ]
  },
  {
   "cell_type": "code",
   "execution_count": 38,
   "metadata": {},
   "outputs": [
    {
     "data": {
      "text/plain": [
       "1351"
      ]
     },
     "execution_count": 38,
     "metadata": {},
     "output_type": "execute_result"
    }
   ],
   "source": [
    "datasetsize=X.shape[0]\n",
    "datasetsize"
   ]
  },
  {
   "cell_type": "code",
   "execution_count": 39,
   "metadata": {},
   "outputs": [
    {
     "data": {
      "text/plain": [
       "5.919220055710307"
      ]
     },
     "execution_count": 39,
     "metadata": {},
     "output_type": "execute_result"
    }
   ],
   "source": [
    "percentRemoved=0\n",
    "\n",
    "percentRemoved= (csvToyota.shape[0]-datasetsize)/csvToyota.shape[0] * 100\n",
    "\n",
    "percentRemoved"
   ]
  },
  {
   "cell_type": "code",
   "execution_count": 47,
   "metadata": {},
   "outputs": [
    {
     "name": "stdout",
     "output_type": "stream",
     "text": [
      "Total Score: 0.7999045480607181\n",
      "Train Score: 0.8176956956341005\n",
      "Test Score: 0.7525758337970481\n"
     ]
    }
   ],
   "source": [
    "x_train, x_test, y_train, y_test= train_test_split(X,Y,test_size=0.3,random_state=42,shuffle=True)\n",
    "\n",
    "\n",
    "\n",
    "dt_param = {\n",
    "    'criterion': 'squared_error',\n",
    "    'random_state': 42,\n",
    "    'max_depth': 4\n",
    "}\n",
    "\n",
    "clf_dt = DecisionTreeRegressor(**dt_param)\n",
    "clf_dt_results = clf_dt.fit(x_train, y_train)\n",
    "\n",
    "y_pred = clf_dt_results.predict(x_test)\n",
    "\n",
    "totalScore=clf_dt_results.score(X,Y)\n",
    "trainScore=clf_dt_results.score(x_train,y_train)\n",
    "testScore=clf_dt_results.score(x_test,y_test)\n",
    "\n",
    "print(\"Total Score: {}\".format(totalScore))\n",
    "print(\"Train Score: {}\".format(trainScore))\n",
    "print(\"Test Score: {}\".format(testScore))"
   ]
  },
  {
   "cell_type": "code",
   "execution_count": 48,
   "metadata": {},
   "outputs": [
    {
     "data": {
      "text/plain": [
       "((945, 1), (406, 1), (945, 26), (406, 26))"
      ]
     },
     "execution_count": 48,
     "metadata": {},
     "output_type": "execute_result"
    }
   ],
   "source": [
    "y_train.shape, y_test.shape, x_train.shape, x_test.shape"
   ]
  },
  {
   "cell_type": "code",
   "execution_count": 49,
   "metadata": {},
   "outputs": [],
   "source": [
    "y_pred = clf_dt_results.predict(x_test) "
   ]
  },
  {
   "cell_type": "code",
   "execution_count": 50,
   "metadata": {},
   "outputs": [
    {
     "name": "stdout",
     "output_type": "stream",
     "text": [
      "[9.2906157  9.41631572 9.2906157  9.18880208 9.10414239 9.18880208\n",
      " 8.96059187 9.10414239 8.90671586 9.77712513 9.2906157  9.2906157\n",
      " 9.10414239 9.18880208 9.18880208 9.68922907 9.11927798 9.41631572\n",
      " 8.96059187 9.11927798 9.77712513 9.68922907 9.2906157  9.10414239\n",
      " 8.73197224 8.96059187 9.41631572 9.04140337 9.10414239 9.18880208\n",
      " 9.18880208 8.7375353  9.10414239 9.10414239 9.41631572 9.68922907\n",
      " 9.11927798 9.41631572 9.2906157  9.04140337 8.96059187 9.68922907\n",
      " 9.41631572 9.41631572 8.91355486 9.68922907 9.18880208 9.10414239\n",
      " 9.2906157  9.10414239 9.41631572 9.2906157  9.41631572 9.18880208\n",
      " 8.91355486 9.77712513 9.2906157  9.18880208 8.73197224 8.96059187\n",
      " 9.2906157  9.2906157  9.10414239 9.2906157  9.41631572 9.41631572\n",
      " 9.10414239 9.18880208 9.10414239 9.77712513 8.91355486 9.2906157\n",
      " 9.2906157  9.18880208 9.68922907 8.91355486 9.41631572 9.10414239\n",
      " 9.10414239 9.18880208 9.04140337 9.04140337 9.10414239 9.04140337\n",
      " 8.90671586 9.10414239 9.10414239 9.2906157  9.10414239 9.04140337\n",
      " 9.18880208 8.90671586 8.91355486 8.91355486 9.18880208 8.91355486\n",
      " 9.10414239 9.04140337 9.41631572 9.18880208 9.10414239 8.96059187\n",
      " 9.04140337 8.96059187 9.10414239 9.10414239 8.96059187 9.18880208\n",
      " 9.41631572 9.18880208 9.2906157  9.65285174 9.2906157  8.91355486\n",
      " 9.2906157  9.18880208 8.91355486 9.10414239 9.18880208 9.18880208\n",
      " 9.2906157  9.04140337 9.77712513 9.2906157  9.18880208 9.41631572\n",
      " 9.2906157  9.68922907 9.10414239 9.10414239 9.04140337 9.10414239\n",
      " 9.10414239 9.18880208 9.2906157  8.91355486 9.10414239 9.2906157\n",
      " 8.96059187 9.41631572 9.04140337 9.68922907 9.04140337 9.2906157\n",
      " 9.2906157  9.2906157  9.04140337 9.10414239 9.10414239 9.10414239\n",
      " 8.90671586 9.18880208 9.10414239 9.18880208 9.10414239 8.91355486\n",
      " 9.41631572 9.41631572 8.96059187 9.18880208 9.10414239 9.10414239\n",
      " 9.04140337 8.96059187 8.91355486 9.18880208 9.18880208 9.10414239\n",
      " 9.04140337 9.10414239 9.68922907 9.18880208 8.96059187 8.7375353\n",
      " 8.96059187 9.10414239 8.91355486 9.68922907 9.41631572 9.04140337\n",
      " 9.2906157  9.2906157  9.10414239 9.04140337 9.18880208 9.18880208\n",
      " 9.2906157  9.18880208 9.41631572 9.2906157  9.18880208 9.2906157\n",
      " 9.18880208 8.96059187 9.2906157  8.96059187 9.41631572 9.2906157\n",
      " 9.2906157  9.41631572 8.96059187 9.10414239 9.2906157  9.18880208\n",
      " 9.68922907 9.11927798 9.10414239 9.41631572 8.96059187 9.53777582\n",
      " 8.96059187 9.41631572 8.91355486 9.10414239 9.18880208 9.10414239\n",
      " 8.91355486 9.41631572 9.68922907 9.2906157  9.10414239 8.7375353\n",
      " 9.41631572 9.04140337 9.10414239 9.10414239 9.11927798 9.18880208\n",
      " 9.10414239 9.04140337 9.18880208 9.41631572 9.68922907 8.91355486\n",
      " 9.41631572 9.41631572 8.96059187 9.10414239 9.18880208 9.18880208\n",
      " 9.41631572 8.91355486 9.2906157  8.96059187 9.41631572 9.18880208\n",
      " 9.10414239 9.41631572 9.41631572 9.2906157  8.7375353  8.96059187\n",
      " 9.04140337 9.41631572 9.04140337 9.04140337 8.91355486 8.96059187\n",
      " 9.41631572 8.96059187 9.2906157  8.96059187 9.41631572 9.18880208\n",
      " 9.10414239 9.10414239 9.04140337 9.2906157  9.10414239 9.68922907\n",
      " 9.18880208 9.10414239 9.41631572 8.91355486 9.18880208 9.2906157\n",
      " 9.18880208 8.96059187 8.91355486 9.04140337 8.91355486 8.91355486\n",
      " 9.2906157  9.41631572 9.11927798 9.18880208 9.41631572 9.2906157\n",
      " 9.41631572 9.18880208 9.2906157  9.41631572 9.11927798 9.18880208\n",
      " 9.18880208 9.68922907 9.41631572 9.10414239 9.41631572 9.11927798\n",
      " 9.10414239 9.41631572 8.96059187 9.10414239 9.2906157  8.91355486\n",
      " 9.2906157  9.2906157  8.90671586 9.2906157  9.41631572 8.96059187\n",
      " 9.18880208 9.10414239 8.96059187 9.04140337 9.10414239 9.41631572\n",
      " 8.96059187 9.2906157  8.96059187 9.2906157  8.91355486 9.2906157\n",
      " 8.90671586 9.18880208 9.18880208 9.18880208 9.77712513 9.04140337\n",
      " 9.10414239 9.18880208 9.2906157  9.41631572 9.2906157  8.90671586\n",
      " 8.96059187 9.2906157  9.10414239 8.96059187 9.2906157  8.91355486\n",
      " 9.04140337 9.04140337 9.11927798 9.10414239 9.10414239 9.04140337\n",
      " 9.18880208 9.10414239 8.96059187 9.41631572 9.41631572 9.41631572\n",
      " 9.04140337 8.96059187 9.41631572 9.2906157  9.11927798 9.10414239\n",
      " 8.96059187 8.7375353  9.68922907 9.10414239 9.10414239 9.18880208\n",
      " 9.18880208 9.10414239 9.18880208 9.18880208 9.41631572 9.41631572\n",
      " 9.18880208 9.04140337 8.96059187 8.91355486 9.41631572 9.2906157\n",
      " 9.2906157  9.2906157  9.77712513 8.96059187 8.96059187 9.10414239\n",
      " 9.10414239 9.10414239 8.96059187 9.10414239 9.18880208 9.11927798\n",
      " 9.04140337 9.10414239 9.04140337 9.18880208 8.96059187 9.10414239\n",
      " 9.2906157  8.96059187 9.10414239 9.2906157  8.7375353  9.11927798\n",
      " 8.91355486 9.68922907 9.41631572 9.10414239]\n"
     ]
    }
   ],
   "source": [
    "print(y_pred.T)"
   ]
  },
  {
   "cell_type": "code",
   "execution_count": 51,
   "metadata": {},
   "outputs": [
    {
     "data": {
      "text/plain": [
       "0.013143941805846755"
      ]
     },
     "execution_count": 51,
     "metadata": {},
     "output_type": "execute_result"
    }
   ],
   "source": [
    "mse=mean_squared_error(y_test,y_pred)\n",
    "mse"
   ]
  },
  {
   "cell_type": "code",
   "execution_count": 52,
   "metadata": {},
   "outputs": [
    {
     "data": {
      "text/plain": [
       "0.11464703138697815"
      ]
     },
     "execution_count": 52,
     "metadata": {},
     "output_type": "execute_result"
    }
   ],
   "source": [
    "rmse=np.sqrt(mse)\n",
    "rmse"
   ]
  },
  {
   "cell_type": "code",
   "execution_count": 54,
   "metadata": {},
   "outputs": [
    {
     "data": {
      "text/plain": [
       "[Text(0.5, 0.9, 'Mfg_Year <= 1999.5\\nsamples = 945\\nvalue = 9.19'),\n",
       " Text(0.25, 0.7, 'Mfg_Year <= 1998.5\\nsamples = 580\\nvalue = 9.05'),\n",
       " Text(0.125, 0.5, 'KM <= 99385.5\\nsamples = 284\\nvalue = 8.97'),\n",
       " Text(0.0625, 0.3, 'Central_Lock <= 0.5\\nsamples = 205\\nvalue = 9.0'),\n",
       " Text(0.03125, 0.1, 'samples = 113\\nvalue = 8.96'),\n",
       " Text(0.09375, 0.1, 'samples = 92\\nvalue = 9.04'),\n",
       " Text(0.1875, 0.3, 'KM <= 174490.0\\nsamples = 79\\nvalue = 8.9'),\n",
       " Text(0.15625, 0.1, 'samples = 72\\nvalue = 8.91'),\n",
       " Text(0.21875, 0.1, 'samples = 7\\nvalue = 8.74'),\n",
       " Text(0.375, 0.5, 'KM <= 138425.0\\nsamples = 296\\nvalue = 9.13'),\n",
       " Text(0.3125, 0.3, 'Quarterly_Tax <= 78.5\\nsamples = 286\\nvalue = 9.14'),\n",
       " Text(0.28125, 0.1, 'samples = 156\\nvalue = 9.1'),\n",
       " Text(0.34375, 0.1, 'samples = 130\\nvalue = 9.19'),\n",
       " Text(0.4375, 0.3, 'Backseat_Divider <= 0.5\\nsamples = 10\\nvalue = 8.84'),\n",
       " Text(0.40625, 0.1, 'samples = 4\\nvalue = 8.73'),\n",
       " Text(0.46875, 0.1, 'samples = 6\\nvalue = 8.91'),\n",
       " Text(0.75, 0.7, 'Mfg_Year <= 2001.5\\nsamples = 365\\nvalue = 9.42'),\n",
       " Text(0.625, 0.5, 'Mfg_Year <= 2000.5\\nsamples = 285\\nvalue = 9.34'),\n",
       " Text(0.5625, 0.3, 'Petrol <= 0.5\\nsamples = 150\\nvalue = 9.27'),\n",
       " Text(0.53125, 0.1, 'samples = 18\\nvalue = 9.12'),\n",
       " Text(0.59375, 0.1, 'samples = 132\\nvalue = 9.29'),\n",
       " Text(0.6875, 0.3, 'KM <= 211430.0\\nsamples = 135\\nvalue = 9.41'),\n",
       " Text(0.65625, 0.1, 'samples = 134\\nvalue = 9.42'),\n",
       " Text(0.71875, 0.1, 'samples = 1\\nvalue = 8.85'),\n",
       " Text(0.875, 0.5, 'Powered_Windows <= 0.5\\nsamples = 80\\nvalue = 9.7'),\n",
       " Text(0.8125, 0.3, 'Doors <= 4.0\\nsamples = 10\\nvalue = 9.57'),\n",
       " Text(0.78125, 0.1, 'samples = 7\\nvalue = 9.54'),\n",
       " Text(0.84375, 0.1, 'samples = 3\\nvalue = 9.65'),\n",
       " Text(0.9375, 0.3, 'KM <= 24451.0\\nsamples = 70\\nvalue = 9.72'),\n",
       " Text(0.90625, 0.1, 'samples = 23\\nvalue = 9.78'),\n",
       " Text(0.96875, 0.1, 'samples = 47\\nvalue = 9.69')]"
      ]
     },
     "execution_count": 54,
     "metadata": {},
     "output_type": "execute_result"
    },
    {
     "data": {
      "image/png": "[encoded data removed]",
      "text/plain": [
       "<Figure size 1728x720 with 1 Axes>"
      ]
     },
     "metadata": {
      "needs_background": "light"
     },
     "output_type": "display_data"
    }
   ],
   "source": [
    "fig, ax = plt.subplots(figsize=(24, 10))\n",
    "plot = plot_tree(\n",
    "            decision_tree = clf_dt,\n",
    "            feature_names = X.columns,\n",
    "            class_names   = 'Prices',\n",
    "            filled        = True,\n",
    "            impurity      = False,\n",
    "            fontsize      = 10,\n",
    "            precision     = 2,\n",
    "            ax            = ax\n",
    "       )\n",
    "\n",
    "plot"
   ]
  },
  {
   "cell_type": "markdown",
   "metadata": {},
   "source": [
    "<h1 style=\"color: violet\">VALIDACION CON X-VALIDATION</h1>"
   ]
  },
  {
   "cell_type": "code",
   "execution_count": 56,
   "metadata": {},
   "outputs": [],
   "source": [
    "Y=df_filtered[[\"Price\"]]\n",
    "X=df_filtered.drop(columns=[\"Price\"])"
   ]
  },
  {
   "cell_type": "code",
   "execution_count": 57,
   "metadata": {},
   "outputs": [
    {
     "name": "stderr",
     "output_type": "stream",
     "text": [
      "C:\\Users\\USUARIO\\AppData\\Local\\Temp\\ipykernel_13376\\3880681737.py:1: SettingWithCopyWarning: \n",
      "A value is trying to be set on a copy of a slice from a DataFrame.\n",
      "Try using .loc[row_indexer,col_indexer] = value instead\n",
      "\n",
      "See the caveats in the documentation: https://pandas.pydata.org/pandas-docs/stable/user_guide/indexing.html#returning-a-view-versus-a-copy\n",
      "  Y[\"Price\"]=np.log(Y[\"Price\"])\n"
     ]
    }
   ],
   "source": [
    "Y[\"Price\"]=np.log(Y[\"Price\"])"
   ]
  },
  {
   "cell_type": "code",
   "execution_count": 58,
   "metadata": {},
   "outputs": [
    {
     "data": {
      "text/plain": [
       "['accuracy',\n",
       " 'adjusted_mutual_info_score',\n",
       " 'adjusted_rand_score',\n",
       " 'average_precision',\n",
       " 'balanced_accuracy',\n",
       " 'completeness_score',\n",
       " 'explained_variance',\n",
       " 'f1',\n",
       " 'f1_macro',\n",
       " 'f1_micro',\n",
       " 'f1_samples',\n",
       " 'f1_weighted',\n",
       " 'fowlkes_mallows_score',\n",
       " 'homogeneity_score',\n",
       " 'jaccard',\n",
       " 'jaccard_macro',\n",
       " 'jaccard_micro',\n",
       " 'jaccard_samples',\n",
       " 'jaccard_weighted',\n",
       " 'matthews_corrcoef',\n",
       " 'max_error',\n",
       " 'mutual_info_score',\n",
       " 'neg_brier_score',\n",
       " 'neg_log_loss',\n",
       " 'neg_mean_absolute_error',\n",
       " 'neg_mean_absolute_percentage_error',\n",
       " 'neg_mean_gamma_deviance',\n",
       " 'neg_mean_poisson_deviance',\n",
       " 'neg_mean_squared_error',\n",
       " 'neg_mean_squared_log_error',\n",
       " 'neg_median_absolute_error',\n",
       " 'neg_root_mean_squared_error',\n",
       " 'normalized_mutual_info_score',\n",
       " 'precision',\n",
       " 'precision_macro',\n",
       " 'precision_micro',\n",
       " 'precision_samples',\n",
       " 'precision_weighted',\n",
       " 'r2',\n",
       " 'rand_score',\n",
       " 'recall',\n",
       " 'recall_macro',\n",
       " 'recall_micro',\n",
       " 'recall_samples',\n",
       " 'recall_weighted',\n",
       " 'roc_auc',\n",
       " 'roc_auc_ovo',\n",
       " 'roc_auc_ovo_weighted',\n",
       " 'roc_auc_ovr',\n",
       " 'roc_auc_ovr_weighted',\n",
       " 'top_k_accuracy',\n",
       " 'v_measure_score']"
      ]
     },
     "execution_count": 58,
     "metadata": {},
     "output_type": "execute_result"
    }
   ],
   "source": [
    "from sklearn.metrics import get_scorer_names\n",
    "\n",
    "get_scorer_names()"
   ]
  },
  {
   "cell_type": "code",
   "execution_count": 60,
   "metadata": {},
   "outputs": [],
   "source": [
    "kfold_param = {\n",
    "    'n_splits':10,\n",
    "    'shuffle':True,\n",
    "    'random_state':42\n",
    "}\n",
    "\n",
    "kfold = KFold(**kfold_param)\n",
    "\n",
    "clf_dt = DecisionTreeRegressor()\n",
    "\n",
    "score = cross_val_score(clf_dt, X, Y,cv=kfold, n_jobs=-1,scoring=\"neg_mean_squared_error\")"
   ]
  },
  {
   "cell_type": "code",
   "execution_count": 61,
   "metadata": {},
   "outputs": [
    {
     "name": "stdout",
     "output_type": "stream",
     "text": [
      "[-0.01586256 -0.01870908 -0.01738562 -0.02433205 -0.01836448 -0.01774456\n",
      " -0.02012181 -0.01773774 -0.02093578 -0.0204829 ]\n"
     ]
    }
   ],
   "source": [
    "print(score)"
   ]
  },
  {
   "cell_type": "code",
   "execution_count": 62,
   "metadata": {},
   "outputs": [
    {
     "data": {
      "text/plain": [
       "0.0191676565867357"
      ]
     },
     "execution_count": 62,
     "metadata": {},
     "output_type": "execute_result"
    }
   ],
   "source": [
    "np.mean(abs(score))"
   ]
  },
  {
   "cell_type": "code",
   "execution_count": 63,
   "metadata": {},
   "outputs": [
    {
     "data": {
      "text/plain": [
       "0.13844730617363307"
      ]
     },
     "execution_count": 63,
     "metadata": {},
     "output_type": "execute_result"
    }
   ],
   "source": [
    "math.sqrt(np.mean(abs(score)))"
   ]
  },
  {
   "cell_type": "markdown",
   "metadata": {},
   "source": [
    "<h1>BUSQUEDA DE HIPERPARAMETROS</h1>"
   ]
  },
  {
   "cell_type": "code",
   "execution_count": null,
   "metadata": {},
   "outputs": [],
   "source": [
    "#clf_dt_3 = DecisionTreeRegressor()\n",
    "#grid_param = {\n",
    "#    'criterion':['squared_error','absolute_error','friedman_mse'],\n",
    "#    'splitter':['best','random'],\n",
    "#    'max_depth': [2,3,4]\n",
    "#}\n",
    "\n",
    "#grid = GridSearchCV(clf_dt_3, param_grid=grid_param, cv=kfold, scoring='accuracy')\n",
    "#grid_results = grid.fit(x_train, y_train)"
   ]
  },
  {
   "cell_type": "markdown",
   "metadata": {},
   "source": [
    "<h1>GUARDAR EXPERIMENTO</h1>"
   ]
  },
  {
   "cell_type": "code",
   "execution_count": 95,
   "metadata": {},
   "outputs": [],
   "source": [
    "from math import sqrt\n",
    "\n",
    "dict_values = {\n",
    "    'deep':0,\n",
    "    'train_score':0,\n",
    "    'test_score':0,\n",
    "    'total_score': 0,\n",
    "    'rmse':0,\n",
    "    'mse':0\n",
    "}\n",
    "\n",
    "mlflow.set_tag('DatasetSize', datasetsize)\n",
    "mlflow.set_tag('PercentageDataRemoved',percentRemoved)\n",
    "mlflow.set_tag('Summary',summary)\n",
    "\n",
    "\n",
    "mlflow.log_metrics(dict_values)"
   ]
  },
  {
   "cell_type": "markdown",
   "metadata": {},
   "source": [
    "FINALIZAR EXPERIMENTO"
   ]
  },
  {
   "cell_type": "code",
   "execution_count": 64,
   "metadata": {},
   "outputs": [],
   "source": [
    "#mlflow.end_run()"
   ]
  }
 ],
 "metadata": {
  "kernelspec": {
   "display_name": "Python 3.10.4 ('datamining')",
   "language": "python",
   "name": "python3"
  },
  "language_info": {
   "codemirror_mode": {
    "name": "ipython",
    "version": 3
   },
   "file_extension": ".py",
   "mimetype": "text/x-python",
   "name": "python",
   "nbconvert_exporter": "python",
   "pygments_lexer": "ipython3",
   "version": "3.10.4"
  },
  "orig_nbformat": 4,
  "vscode": {
   "interpreter": {
    "hash": "dd2c738cbc489a7192be84f527e2f9954c1c57bb6ac440df68d1356060f24e3c"
   }
  }
 },
 "nbformat": 4,
 "nbformat_minor": 2
}
